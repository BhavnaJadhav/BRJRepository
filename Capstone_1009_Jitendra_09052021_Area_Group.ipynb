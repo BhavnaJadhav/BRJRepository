{
  "nbformat": 4,
  "nbformat_minor": 0,
  "metadata": {
    "colab": {
      "name": "Capstone_1009_Jitendra - 09052021_Area_Group.ipynb",
      "provenance": [],
      "collapsed_sections": [
        "M1EFGOnSm74q",
        "CAQs0Szim74r",
        "wrKUcQFtm74r"
      ]
    },
    "kernelspec": {
      "display_name": "Python 3",
      "language": "python",
      "name": "python3"
    },
    "language_info": {
      "codemirror_mode": {
        "name": "ipython",
        "version": 3
      },
      "file_extension": ".py",
      "mimetype": "text/x-python",
      "name": "python",
      "nbconvert_exporter": "python",
      "pygments_lexer": "ipython3",
      "version": "3.7.0"
    }
  },
  "cells": [
    {
      "cell_type": "code",
      "metadata": {
        "id": "EWyFKEghm73k",
        "colab": {
          "base_uri": "https://localhost:8080/"
        },
        "outputId": "463dc14c-bcc3-4e6c-a3c0-42ed8135dbe5"
      },
      "source": [
        "\n",
        "#install google translator\n",
        "!pip install google_trans_new\n",
        "!pip install mysql-connector"
      ],
      "execution_count": 5,
      "outputs": [
        {
          "output_type": "stream",
          "text": [
            "Requirement already satisfied: google_trans_new in /usr/local/lib/python3.7/dist-packages (1.1.9)\n",
            "Collecting mysql-connector\n",
            "\u001b[?25l  Downloading https://files.pythonhosted.org/packages/28/04/e40098f3730e75bbe36a338926f566ea803550a34fb50535499f4fc4787a/mysql-connector-2.2.9.tar.gz (11.9MB)\n",
            "\u001b[K     |████████████████████████████████| 11.9MB 5.9MB/s \n",
            "\u001b[?25hBuilding wheels for collected packages: mysql-connector\n",
            "  Building wheel for mysql-connector (setup.py) ... \u001b[?25l\u001b[?25hdone\n",
            "  Created wheel for mysql-connector: filename=mysql_connector-2.2.9-cp37-cp37m-linux_x86_64.whl size=247949 sha256=6fb4006962c77687a049b7bfc5a8caa23e6175cdb38eb17257eda1abcba38e5b\n",
            "  Stored in directory: /root/.cache/pip/wheels/8c/83/a1/f8b6d4bb1bd6208bbde1608bbfa7557504bed9eaf2ecf8c175\n",
            "Successfully built mysql-connector\n",
            "Installing collected packages: mysql-connector\n",
            "Successfully installed mysql-connector-2.2.9\n"
          ],
          "name": "stdout"
        }
      ]
    },
    {
      "cell_type": "code",
      "metadata": {
        "id": "WBWZRzfKm731"
      },
      "source": [
        "import csv\n",
        "import pandas as pd\n",
        "import numpy as np\n",
        "import warnings\n",
        "import mysql.connector\n",
        "#Import mysql connector for connecting to DB\n",
        "warnings.filterwarnings(\"ignore\")\n",
        "warnings.filterwarnings(\"ignore\",category=DeprecationWarning)"
      ],
      "execution_count": 6,
      "outputs": []
    },
    {
      "cell_type": "code",
      "metadata": {
        "id": "UsguN8Nmm733",
        "colab": {
          "base_uri": "https://localhost:8080/"
        },
        "outputId": "0a70efc5-29b9-4965-b61b-4a6e745a4eec"
      },
      "source": [
        "#Storing the connection details of the DB in mydb\n",
        "mydb = mysql.connector.connect(\n",
        "  host=\"cpanel.insaid.co\",\n",
        "  user=\"student\",\n",
        "  password=\"student\",\n",
        "  database=\"Capstone1\"\n",
        ")\n",
        "\n",
        "#Reading the Table : gender_age_train and getting all rows and store in dataframe df_gender_age\n",
        "df_gender_age = pd.read_sql('SELECT * FROM gender_age_train', con=mydb)\n",
        "df_gender_age.info()\n"
      ],
      "execution_count": 7,
      "outputs": [
        {
          "output_type": "stream",
          "text": [
            "<class 'pandas.core.frame.DataFrame'>\n",
            "RangeIndex: 74645 entries, 0 to 74644\n",
            "Data columns (total 4 columns):\n",
            " #   Column     Non-Null Count  Dtype \n",
            "---  ------     --------------  ----- \n",
            " 0   device_id  74645 non-null  int64 \n",
            " 1   gender     74645 non-null  object\n",
            " 2   age        74645 non-null  int64 \n",
            " 3   group      74645 non-null  object\n",
            "dtypes: int64(2), object(2)\n",
            "memory usage: 2.3+ MB\n"
          ],
          "name": "stdout"
        }
      ]
    },
    {
      "cell_type": "code",
      "metadata": {
        "id": "vwlO2c4vm734",
        "colab": {
          "base_uri": "https://localhost:8080/",
          "height": 195
        },
        "outputId": "995e4345-eadc-40bf-d42d-b9b87002b29a"
      },
      "source": [
        "df_gender_age.head()   #top 5 rows"
      ],
      "execution_count": 8,
      "outputs": [
        {
          "output_type": "execute_result",
          "data": {
            "text/html": [
              "<div>\n",
              "<style scoped>\n",
              "    .dataframe tbody tr th:only-of-type {\n",
              "        vertical-align: middle;\n",
              "    }\n",
              "\n",
              "    .dataframe tbody tr th {\n",
              "        vertical-align: top;\n",
              "    }\n",
              "\n",
              "    .dataframe thead th {\n",
              "        text-align: right;\n",
              "    }\n",
              "</style>\n",
              "<table border=\"1\" class=\"dataframe\">\n",
              "  <thead>\n",
              "    <tr style=\"text-align: right;\">\n",
              "      <th></th>\n",
              "      <th>device_id</th>\n",
              "      <th>gender</th>\n",
              "      <th>age</th>\n",
              "      <th>group</th>\n",
              "    </tr>\n",
              "  </thead>\n",
              "  <tbody>\n",
              "    <tr>\n",
              "      <th>0</th>\n",
              "      <td>-8076087639492063270</td>\n",
              "      <td>M</td>\n",
              "      <td>35</td>\n",
              "      <td>M32-38</td>\n",
              "    </tr>\n",
              "    <tr>\n",
              "      <th>1</th>\n",
              "      <td>-2897161552818060146</td>\n",
              "      <td>M</td>\n",
              "      <td>35</td>\n",
              "      <td>M32-38</td>\n",
              "    </tr>\n",
              "    <tr>\n",
              "      <th>2</th>\n",
              "      <td>-8260683887967679142</td>\n",
              "      <td>M</td>\n",
              "      <td>35</td>\n",
              "      <td>M32-38</td>\n",
              "    </tr>\n",
              "    <tr>\n",
              "      <th>3</th>\n",
              "      <td>-4938849341048082022</td>\n",
              "      <td>M</td>\n",
              "      <td>30</td>\n",
              "      <td>M29-31</td>\n",
              "    </tr>\n",
              "    <tr>\n",
              "      <th>4</th>\n",
              "      <td>245133531816851882</td>\n",
              "      <td>M</td>\n",
              "      <td>30</td>\n",
              "      <td>M29-31</td>\n",
              "    </tr>\n",
              "  </tbody>\n",
              "</table>\n",
              "</div>"
            ],
            "text/plain": [
              "             device_id gender  age   group\n",
              "0 -8076087639492063270      M   35  M32-38\n",
              "1 -2897161552818060146      M   35  M32-38\n",
              "2 -8260683887967679142      M   35  M32-38\n",
              "3 -4938849341048082022      M   30  M29-31\n",
              "4   245133531816851882      M   30  M29-31"
            ]
          },
          "metadata": {
            "tags": []
          },
          "execution_count": 8
        }
      ]
    },
    {
      "cell_type": "code",
      "metadata": {
        "id": "tUzdeQlbm735",
        "colab": {
          "base_uri": "https://localhost:8080/",
          "height": 195
        },
        "outputId": "8d15bfbd-8b72-409e-c352-c33608036c2c"
      },
      "source": [
        "df_gender_age.tail() #bottom 5 rows"
      ],
      "execution_count": 9,
      "outputs": [
        {
          "output_type": "execute_result",
          "data": {
            "text/html": [
              "<div>\n",
              "<style scoped>\n",
              "    .dataframe tbody tr th:only-of-type {\n",
              "        vertical-align: middle;\n",
              "    }\n",
              "\n",
              "    .dataframe tbody tr th {\n",
              "        vertical-align: top;\n",
              "    }\n",
              "\n",
              "    .dataframe thead th {\n",
              "        text-align: right;\n",
              "    }\n",
              "</style>\n",
              "<table border=\"1\" class=\"dataframe\">\n",
              "  <thead>\n",
              "    <tr style=\"text-align: right;\">\n",
              "      <th></th>\n",
              "      <th>device_id</th>\n",
              "      <th>gender</th>\n",
              "      <th>age</th>\n",
              "      <th>group</th>\n",
              "    </tr>\n",
              "  </thead>\n",
              "  <tbody>\n",
              "    <tr>\n",
              "      <th>74640</th>\n",
              "      <td>4682031842235089751</td>\n",
              "      <td>M</td>\n",
              "      <td>30</td>\n",
              "      <td>M29-31</td>\n",
              "    </tr>\n",
              "    <tr>\n",
              "      <th>74641</th>\n",
              "      <td>-9178703742877135986</td>\n",
              "      <td>M</td>\n",
              "      <td>30</td>\n",
              "      <td>M29-31</td>\n",
              "    </tr>\n",
              "    <tr>\n",
              "      <th>74642</th>\n",
              "      <td>180946546684162312</td>\n",
              "      <td>M</td>\n",
              "      <td>20</td>\n",
              "      <td>M22-</td>\n",
              "    </tr>\n",
              "    <tr>\n",
              "      <th>74643</th>\n",
              "      <td>1390702386071991851</td>\n",
              "      <td>M</td>\n",
              "      <td>37</td>\n",
              "      <td>M32-38</td>\n",
              "    </tr>\n",
              "    <tr>\n",
              "      <th>74644</th>\n",
              "      <td>89181010588227347</td>\n",
              "      <td>M</td>\n",
              "      <td>25</td>\n",
              "      <td>M23-26</td>\n",
              "    </tr>\n",
              "  </tbody>\n",
              "</table>\n",
              "</div>"
            ],
            "text/plain": [
              "                 device_id gender  age   group\n",
              "74640  4682031842235089751      M   30  M29-31\n",
              "74641 -9178703742877135986      M   30  M29-31\n",
              "74642   180946546684162312      M   20    M22-\n",
              "74643  1390702386071991851      M   37  M32-38\n",
              "74644    89181010588227347      M   25  M23-26"
            ]
          },
          "metadata": {
            "tags": []
          },
          "execution_count": 9
        }
      ]
    },
    {
      "cell_type": "code",
      "metadata": {
        "id": "tNCsjfjZm735",
        "colab": {
          "base_uri": "https://localhost:8080/"
        },
        "outputId": "3aa73c01-79b5-4f66-83e9-3d1a1b1edafa"
      },
      "source": [
        "#unique groups\n",
        "df_gender_age['group'].unique()"
      ],
      "execution_count": 10,
      "outputs": [
        {
          "output_type": "execute_result",
          "data": {
            "text/plain": [
              "array(['M32-38', 'M29-31', 'F24-26', 'F33-42', 'F27-28', 'M39+', 'M23-26',\n",
              "       'M27-28', 'M22-', 'F43+', 'F23-', 'F29-32'], dtype=object)"
            ]
          },
          "metadata": {
            "tags": []
          },
          "execution_count": 10
        }
      ]
    },
    {
      "cell_type": "code",
      "metadata": {
        "id": "tsQtdRX2m736",
        "colab": {
          "base_uri": "https://localhost:8080/",
          "height": 462
        },
        "outputId": "c1efec0c-9c84-4ebd-8170-3bffb0d4e91a"
      },
      "source": [
        "#find min and max age for each group to check if there is no deviation in the data\n",
        "df_gender_age.groupby(['group']).agg({'age': ['min', 'max']})\n"
      ],
      "execution_count": 11,
      "outputs": [
        {
          "output_type": "execute_result",
          "data": {
            "text/html": [
              "<div>\n",
              "<style scoped>\n",
              "    .dataframe tbody tr th:only-of-type {\n",
              "        vertical-align: middle;\n",
              "    }\n",
              "\n",
              "    .dataframe tbody tr th {\n",
              "        vertical-align: top;\n",
              "    }\n",
              "\n",
              "    .dataframe thead tr th {\n",
              "        text-align: left;\n",
              "    }\n",
              "\n",
              "    .dataframe thead tr:last-of-type th {\n",
              "        text-align: right;\n",
              "    }\n",
              "</style>\n",
              "<table border=\"1\" class=\"dataframe\">\n",
              "  <thead>\n",
              "    <tr>\n",
              "      <th></th>\n",
              "      <th colspan=\"2\" halign=\"left\">age</th>\n",
              "    </tr>\n",
              "    <tr>\n",
              "      <th></th>\n",
              "      <th>min</th>\n",
              "      <th>max</th>\n",
              "    </tr>\n",
              "    <tr>\n",
              "      <th>group</th>\n",
              "      <th></th>\n",
              "      <th></th>\n",
              "    </tr>\n",
              "  </thead>\n",
              "  <tbody>\n",
              "    <tr>\n",
              "      <th>F23-</th>\n",
              "      <td>10</td>\n",
              "      <td>23</td>\n",
              "    </tr>\n",
              "    <tr>\n",
              "      <th>F24-26</th>\n",
              "      <td>24</td>\n",
              "      <td>26</td>\n",
              "    </tr>\n",
              "    <tr>\n",
              "      <th>F27-28</th>\n",
              "      <td>27</td>\n",
              "      <td>28</td>\n",
              "    </tr>\n",
              "    <tr>\n",
              "      <th>F29-32</th>\n",
              "      <td>29</td>\n",
              "      <td>32</td>\n",
              "    </tr>\n",
              "    <tr>\n",
              "      <th>F33-42</th>\n",
              "      <td>33</td>\n",
              "      <td>42</td>\n",
              "    </tr>\n",
              "    <tr>\n",
              "      <th>F43+</th>\n",
              "      <td>43</td>\n",
              "      <td>96</td>\n",
              "    </tr>\n",
              "    <tr>\n",
              "      <th>M22-</th>\n",
              "      <td>1</td>\n",
              "      <td>22</td>\n",
              "    </tr>\n",
              "    <tr>\n",
              "      <th>M23-26</th>\n",
              "      <td>23</td>\n",
              "      <td>26</td>\n",
              "    </tr>\n",
              "    <tr>\n",
              "      <th>M27-28</th>\n",
              "      <td>27</td>\n",
              "      <td>28</td>\n",
              "    </tr>\n",
              "    <tr>\n",
              "      <th>M29-31</th>\n",
              "      <td>29</td>\n",
              "      <td>31</td>\n",
              "    </tr>\n",
              "    <tr>\n",
              "      <th>M32-38</th>\n",
              "      <td>32</td>\n",
              "      <td>38</td>\n",
              "    </tr>\n",
              "    <tr>\n",
              "      <th>M39+</th>\n",
              "      <td>39</td>\n",
              "      <td>90</td>\n",
              "    </tr>\n",
              "  </tbody>\n",
              "</table>\n",
              "</div>"
            ],
            "text/plain": [
              "       age    \n",
              "       min max\n",
              "group         \n",
              "F23-    10  23\n",
              "F24-26  24  26\n",
              "F27-28  27  28\n",
              "F29-32  29  32\n",
              "F33-42  33  42\n",
              "F43+    43  96\n",
              "M22-     1  22\n",
              "M23-26  23  26\n",
              "M27-28  27  28\n",
              "M29-31  29  31\n",
              "M32-38  32  38\n",
              "M39+    39  90"
            ]
          },
          "metadata": {
            "tags": []
          },
          "execution_count": 11
        }
      ]
    },
    {
      "cell_type": "code",
      "metadata": {
        "id": "i_g2f8JSm737",
        "colab": {
          "base_uri": "https://localhost:8080/"
        },
        "outputId": "022c94f0-f872-4720-b6a5-e6b1d1491b2d"
      },
      "source": [
        "#find unique genders\n",
        "df_gender_age['gender'].unique()"
      ],
      "execution_count": 12,
      "outputs": [
        {
          "output_type": "execute_result",
          "data": {
            "text/plain": [
              "array(['M', 'F'], dtype=object)"
            ]
          },
          "metadata": {
            "tags": []
          },
          "execution_count": 12
        }
      ]
    },
    {
      "cell_type": "code",
      "metadata": {
        "id": "T8Q3I4AGm737",
        "colab": {
          "base_uri": "https://localhost:8080/"
        },
        "outputId": "65eb3aa8-b56e-468b-9426-d40198f236d1"
      },
      "source": [
        "#Check if gender and age groups are same\n",
        "df_gender_age.groupby('group')['gender'].unique()"
      ],
      "execution_count": 13,
      "outputs": [
        {
          "output_type": "execute_result",
          "data": {
            "text/plain": [
              "group\n",
              "F23-      [F]\n",
              "F24-26    [F]\n",
              "F27-28    [F]\n",
              "F29-32    [F]\n",
              "F33-42    [F]\n",
              "F43+      [F]\n",
              "M22-      [M]\n",
              "M23-26    [M]\n",
              "M27-28    [M]\n",
              "M29-31    [M]\n",
              "M32-38    [M]\n",
              "M39+      [M]\n",
              "Name: gender, dtype: object"
            ]
          },
          "metadata": {
            "tags": []
          },
          "execution_count": 13
        }
      ]
    },
    {
      "cell_type": "code",
      "metadata": {
        "id": "A3-oetUwm738",
        "colab": {
          "base_uri": "https://localhost:8080/"
        },
        "outputId": "fc3d6a25-adb6-4956-a267-de9aaa26f845"
      },
      "source": [
        "#find unique devices\n",
        "df_gender_age['device_id'].nunique()"
      ],
      "execution_count": 14,
      "outputs": [
        {
          "output_type": "execute_result",
          "data": {
            "text/plain": [
              "74645"
            ]
          },
          "metadata": {
            "tags": []
          },
          "execution_count": 14
        }
      ]
    },
    {
      "cell_type": "code",
      "metadata": {
        "id": "d-AboIcQm739",
        "outputId": "3241dd49-d09e-44cb-bcbd-f1b835c65729"
      },
      "source": [
        "\"\"\"\"\n",
        "from pandas_profiling import ProfileReport\n",
        "profile = ProfileReport(df_gender_age, title='Telecom Profiling Report for Gender and Age', html={'style':{'full_width':True}})\n",
        "\"\"\""
      ],
      "execution_count": null,
      "outputs": [
        {
          "output_type": "execute_result",
          "data": {
            "text/plain": [
              "'\"\\nfrom pandas_profiling import ProfileReport\\nprofile = ProfileReport(df_gender_age, title=\\'Telecom Profiling Report for Gender and Age\\', html={\\'style\\':{\\'full_width\\':True}})\\n'"
            ]
          },
          "metadata": {
            "tags": []
          },
          "execution_count": 11
        }
      ]
    },
    {
      "cell_type": "code",
      "metadata": {
        "id": "0CcpeL-em739"
      },
      "source": [
        "#profile.to_file(output_file=\"PreProfiling_GenderAgeData.html\") "
      ],
      "execution_count": null,
      "outputs": []
    },
    {
      "cell_type": "code",
      "metadata": {
        "id": "WMxT-t5Xm73-",
        "colab": {
          "base_uri": "https://localhost:8080/"
        },
        "outputId": "cb5209ae-1768-480f-eb48-8116ba86feed"
      },
      "source": [
        "mydb = mysql.connector.connect(\n",
        "  host=\"cpanel.insaid.co\",\n",
        "  user=\"student\",\n",
        "  password=\"student\",\n",
        "  database=\"Capstone1\"\n",
        ")\n",
        "df_phone_brand = pd.read_sql('SELECT * FROM phone_brand_device_model ', con=mydb)\n",
        "df_phone_brand.info()\n",
        "#Reading the Table : phone_brand_device_model and getting all rows and store in dataframe df_phone_brand"
      ],
      "execution_count": 15,
      "outputs": [
        {
          "output_type": "stream",
          "text": [
            "<class 'pandas.core.frame.DataFrame'>\n",
            "RangeIndex: 87726 entries, 0 to 87725\n",
            "Data columns (total 3 columns):\n",
            " #   Column        Non-Null Count  Dtype \n",
            "---  ------        --------------  ----- \n",
            " 0   device_id     87726 non-null  int64 \n",
            " 1   phone_brand   87726 non-null  object\n",
            " 2   device_model  87726 non-null  object\n",
            "dtypes: int64(1), object(2)\n",
            "memory usage: 2.0+ MB\n"
          ],
          "name": "stdout"
        }
      ]
    },
    {
      "cell_type": "code",
      "metadata": {
        "id": "vrDQmy59m73_",
        "colab": {
          "base_uri": "https://localhost:8080/",
          "height": 195
        },
        "outputId": "417f64d3-8e63-4947-adef-494c5751f85d"
      },
      "source": [
        "df_phone_brand.head()"
      ],
      "execution_count": 16,
      "outputs": [
        {
          "output_type": "execute_result",
          "data": {
            "text/html": [
              "<div>\n",
              "<style scoped>\n",
              "    .dataframe tbody tr th:only-of-type {\n",
              "        vertical-align: middle;\n",
              "    }\n",
              "\n",
              "    .dataframe tbody tr th {\n",
              "        vertical-align: top;\n",
              "    }\n",
              "\n",
              "    .dataframe thead th {\n",
              "        text-align: right;\n",
              "    }\n",
              "</style>\n",
              "<table border=\"1\" class=\"dataframe\">\n",
              "  <thead>\n",
              "    <tr style=\"text-align: right;\">\n",
              "      <th></th>\n",
              "      <th>device_id</th>\n",
              "      <th>phone_brand</th>\n",
              "      <th>device_model</th>\n",
              "    </tr>\n",
              "  </thead>\n",
              "  <tbody>\n",
              "    <tr>\n",
              "      <th>0</th>\n",
              "      <td>1877775838486905855</td>\n",
              "      <td>vivo</td>\n",
              "      <td>Y13</td>\n",
              "    </tr>\n",
              "    <tr>\n",
              "      <th>1</th>\n",
              "      <td>-3766087376657242966</td>\n",
              "      <td>小米</td>\n",
              "      <td>V183</td>\n",
              "    </tr>\n",
              "    <tr>\n",
              "      <th>2</th>\n",
              "      <td>-6238937574958215831</td>\n",
              "      <td>OPPO</td>\n",
              "      <td>R7s</td>\n",
              "    </tr>\n",
              "    <tr>\n",
              "      <th>3</th>\n",
              "      <td>8973197758510677470</td>\n",
              "      <td>三星</td>\n",
              "      <td>A368t</td>\n",
              "    </tr>\n",
              "    <tr>\n",
              "      <th>4</th>\n",
              "      <td>-2015528097870762664</td>\n",
              "      <td>小米</td>\n",
              "      <td>红米Note2</td>\n",
              "    </tr>\n",
              "  </tbody>\n",
              "</table>\n",
              "</div>"
            ],
            "text/plain": [
              "             device_id phone_brand device_model\n",
              "0  1877775838486905855        vivo          Y13\n",
              "1 -3766087376657242966          小米         V183\n",
              "2 -6238937574958215831        OPPO          R7s\n",
              "3  8973197758510677470          三星        A368t\n",
              "4 -2015528097870762664          小米      红米Note2"
            ]
          },
          "metadata": {
            "tags": []
          },
          "execution_count": 16
        }
      ]
    },
    {
      "cell_type": "code",
      "metadata": {
        "id": "7omQdWUBm74B",
        "colab": {
          "base_uri": "https://localhost:8080/",
          "height": 195
        },
        "outputId": "efa49c43-d1d6-4a8c-e5f3-dcd32d86c098"
      },
      "source": [
        "df_phone_brand.tail()"
      ],
      "execution_count": 17,
      "outputs": [
        {
          "output_type": "execute_result",
          "data": {
            "text/html": [
              "<div>\n",
              "<style scoped>\n",
              "    .dataframe tbody tr th:only-of-type {\n",
              "        vertical-align: middle;\n",
              "    }\n",
              "\n",
              "    .dataframe tbody tr th {\n",
              "        vertical-align: top;\n",
              "    }\n",
              "\n",
              "    .dataframe thead th {\n",
              "        text-align: right;\n",
              "    }\n",
              "</style>\n",
              "<table border=\"1\" class=\"dataframe\">\n",
              "  <thead>\n",
              "    <tr style=\"text-align: right;\">\n",
              "      <th></th>\n",
              "      <th>device_id</th>\n",
              "      <th>phone_brand</th>\n",
              "      <th>device_model</th>\n",
              "    </tr>\n",
              "  </thead>\n",
              "  <tbody>\n",
              "    <tr>\n",
              "      <th>87721</th>\n",
              "      <td>-4961458925928574032</td>\n",
              "      <td>华为</td>\n",
              "      <td>荣耀畅玩4X</td>\n",
              "    </tr>\n",
              "    <tr>\n",
              "      <th>87722</th>\n",
              "      <td>-8819817317449262375</td>\n",
              "      <td>华为</td>\n",
              "      <td>荣耀6</td>\n",
              "    </tr>\n",
              "    <tr>\n",
              "      <th>87723</th>\n",
              "      <td>-3358291377416935026</td>\n",
              "      <td>华为</td>\n",
              "      <td>荣耀畅玩4</td>\n",
              "    </tr>\n",
              "    <tr>\n",
              "      <th>87724</th>\n",
              "      <td>3282788959750981633</td>\n",
              "      <td>小米</td>\n",
              "      <td>MI 2</td>\n",
              "    </tr>\n",
              "    <tr>\n",
              "      <th>87725</th>\n",
              "      <td>2491639413207286271</td>\n",
              "      <td>酷比</td>\n",
              "      <td>M1</td>\n",
              "    </tr>\n",
              "  </tbody>\n",
              "</table>\n",
              "</div>"
            ],
            "text/plain": [
              "                 device_id phone_brand device_model\n",
              "87721 -4961458925928574032          华为       荣耀畅玩4X\n",
              "87722 -8819817317449262375          华为          荣耀6\n",
              "87723 -3358291377416935026          华为        荣耀畅玩4\n",
              "87724  3282788959750981633          小米         MI 2\n",
              "87725  2491639413207286271          酷比           M1"
            ]
          },
          "metadata": {
            "tags": []
          },
          "execution_count": 17
        }
      ]
    },
    {
      "cell_type": "code",
      "metadata": {
        "id": "i3ZWJMPwm74C",
        "colab": {
          "base_uri": "https://localhost:8080/"
        },
        "outputId": "80e7bd73-db94-4175-8329-b39a69d55d86"
      },
      "source": [
        "import string\n",
        "#Check if string is english or non english\n",
        "def isEnglish(s):\n",
        "    try:\n",
        "        s.encode(encoding='utf-8').decode('ascii')\n",
        "    except UnicodeDecodeError:\n",
        "        return False\n",
        "    else:\n",
        "        return True\n",
        "\n",
        "#df_Phone_brand_Eng =\n",
        "from google_trans_new import google_translator  \n",
        "translator = google_translator() \n",
        "#Find english translation of phone_brand\n",
        "df_Phone_1=pd.DataFrame(df_phone_brand['phone_brand'].unique())\n",
        "df_Phone_1.rename( columns={0 :'phone_brand'}, inplace=True )\n",
        "df_Phone_1['phone_brand_E']=df_Phone_1['phone_brand'].apply(lambda x: x if isEnglish(x) else translator.translate(x, lang_src=\"zh-TW\", lang_tgt=\"en\"))\n",
        "print (\"Phone brand updated...\")\n",
        "#Find english translation of device model\n",
        "df_Phone_2=pd.DataFrame(df_phone_brand['device_model'].unique())\n",
        "df_Phone_2.rename( columns={0 :'device_model'}, inplace=True )\n",
        "\n",
        "df_Phone_2['device_model_E']=df_Phone_2['device_model'].apply(lambda x: x if isEnglish(x) else translator.translate(x, lang_src=\"zh-TW\", lang_tgt=\"en\"))\n",
        "print (\"Device model updated...\")"
      ],
      "execution_count": 18,
      "outputs": [
        {
          "output_type": "stream",
          "text": [
            "Phone brand updated...\n",
            "Device model updated...\n"
          ],
          "name": "stdout"
        }
      ]
    },
    {
      "cell_type": "code",
      "metadata": {
        "id": "_hVmXvhMm74G",
        "colab": {
          "base_uri": "https://localhost:8080/",
          "height": 402
        },
        "outputId": "3a548e36-e8ee-4d58-bc13-1d1425dfd0d7"
      },
      "source": [
        "df_ph = pd.merge(df_phone_brand,df_Phone_1, how=\"inner\", on=\"phone_brand\")\n",
        "df_ph"
      ],
      "execution_count": 19,
      "outputs": [
        {
          "output_type": "execute_result",
          "data": {
            "text/html": [
              "<div>\n",
              "<style scoped>\n",
              "    .dataframe tbody tr th:only-of-type {\n",
              "        vertical-align: middle;\n",
              "    }\n",
              "\n",
              "    .dataframe tbody tr th {\n",
              "        vertical-align: top;\n",
              "    }\n",
              "\n",
              "    .dataframe thead th {\n",
              "        text-align: right;\n",
              "    }\n",
              "</style>\n",
              "<table border=\"1\" class=\"dataframe\">\n",
              "  <thead>\n",
              "    <tr style=\"text-align: right;\">\n",
              "      <th></th>\n",
              "      <th>device_id</th>\n",
              "      <th>phone_brand</th>\n",
              "      <th>device_model</th>\n",
              "      <th>phone_brand_E</th>\n",
              "    </tr>\n",
              "  </thead>\n",
              "  <tbody>\n",
              "    <tr>\n",
              "      <th>0</th>\n",
              "      <td>1877775838486905855</td>\n",
              "      <td>vivo</td>\n",
              "      <td>Y13</td>\n",
              "      <td>vivo</td>\n",
              "    </tr>\n",
              "    <tr>\n",
              "      <th>1</th>\n",
              "      <td>-8705713195059105949</td>\n",
              "      <td>vivo</td>\n",
              "      <td>X6 L</td>\n",
              "      <td>vivo</td>\n",
              "    </tr>\n",
              "    <tr>\n",
              "      <th>2</th>\n",
              "      <td>7284092388756598809</td>\n",
              "      <td>vivo</td>\n",
              "      <td>Y35</td>\n",
              "      <td>vivo</td>\n",
              "    </tr>\n",
              "    <tr>\n",
              "      <th>3</th>\n",
              "      <td>-298209719519394007</td>\n",
              "      <td>vivo</td>\n",
              "      <td>Xperia SL</td>\n",
              "      <td>vivo</td>\n",
              "    </tr>\n",
              "    <tr>\n",
              "      <th>4</th>\n",
              "      <td>5191524460861112478</td>\n",
              "      <td>vivo</td>\n",
              "      <td>Y17T</td>\n",
              "      <td>vivo</td>\n",
              "    </tr>\n",
              "    <tr>\n",
              "      <th>...</th>\n",
              "      <td>...</td>\n",
              "      <td>...</td>\n",
              "      <td>...</td>\n",
              "      <td>...</td>\n",
              "    </tr>\n",
              "    <tr>\n",
              "      <th>87721</th>\n",
              "      <td>-8463760279549544397</td>\n",
              "      <td>欧乐迪</td>\n",
              "      <td>Z1988</td>\n",
              "      <td>Oeri</td>\n",
              "    </tr>\n",
              "    <tr>\n",
              "      <th>87722</th>\n",
              "      <td>-1827265414361726037</td>\n",
              "      <td>欧乐迪</td>\n",
              "      <td>Z1988</td>\n",
              "      <td>Oeri</td>\n",
              "    </tr>\n",
              "    <tr>\n",
              "      <th>87723</th>\n",
              "      <td>2199613157955485294</td>\n",
              "      <td>欧乐迪</td>\n",
              "      <td>Z1988</td>\n",
              "      <td>Oeri</td>\n",
              "    </tr>\n",
              "    <tr>\n",
              "      <th>87724</th>\n",
              "      <td>-5387173829047621361</td>\n",
              "      <td>PPTV</td>\n",
              "      <td>King 7</td>\n",
              "      <td>PPTV</td>\n",
              "    </tr>\n",
              "    <tr>\n",
              "      <th>87725</th>\n",
              "      <td>-8790560034584248901</td>\n",
              "      <td>PPTV</td>\n",
              "      <td>King 7s</td>\n",
              "      <td>PPTV</td>\n",
              "    </tr>\n",
              "  </tbody>\n",
              "</table>\n",
              "<p>87726 rows × 4 columns</p>\n",
              "</div>"
            ],
            "text/plain": [
              "                 device_id phone_brand device_model phone_brand_E\n",
              "0      1877775838486905855        vivo          Y13          vivo\n",
              "1     -8705713195059105949        vivo         X6 L          vivo\n",
              "2      7284092388756598809        vivo          Y35          vivo\n",
              "3      -298209719519394007        vivo    Xperia SL          vivo\n",
              "4      5191524460861112478        vivo         Y17T          vivo\n",
              "...                    ...         ...          ...           ...\n",
              "87721 -8463760279549544397         欧乐迪        Z1988         Oeri \n",
              "87722 -1827265414361726037         欧乐迪        Z1988         Oeri \n",
              "87723  2199613157955485294         欧乐迪        Z1988         Oeri \n",
              "87724 -5387173829047621361        PPTV       King 7          PPTV\n",
              "87725 -8790560034584248901        PPTV      King 7s          PPTV\n",
              "\n",
              "[87726 rows x 4 columns]"
            ]
          },
          "metadata": {
            "tags": []
          },
          "execution_count": 19
        }
      ]
    },
    {
      "cell_type": "code",
      "metadata": {
        "id": "YkkHdSRTm74H",
        "colab": {
          "base_uri": "https://localhost:8080/",
          "height": 402
        },
        "outputId": "e9accdce-2ab8-4dc5-b5c9-13cf1080bce3"
      },
      "source": [
        "df_phone_brand = pd.merge(df_ph,df_Phone_2, how=\"inner\", on=\"device_model\")\n",
        "df_phone_brand.drop(['phone_brand','device_model'], axis = 1, inplace=True)\n",
        "df_phone_brand.rename(columns={'phone_brand_E': 'phone_brand', 'device_model_E': 'device_model'}, inplace=True)\n",
        "df_phone_brand"
      ],
      "execution_count": 20,
      "outputs": [
        {
          "output_type": "execute_result",
          "data": {
            "text/html": [
              "<div>\n",
              "<style scoped>\n",
              "    .dataframe tbody tr th:only-of-type {\n",
              "        vertical-align: middle;\n",
              "    }\n",
              "\n",
              "    .dataframe tbody tr th {\n",
              "        vertical-align: top;\n",
              "    }\n",
              "\n",
              "    .dataframe thead th {\n",
              "        text-align: right;\n",
              "    }\n",
              "</style>\n",
              "<table border=\"1\" class=\"dataframe\">\n",
              "  <thead>\n",
              "    <tr style=\"text-align: right;\">\n",
              "      <th></th>\n",
              "      <th>device_id</th>\n",
              "      <th>phone_brand</th>\n",
              "      <th>device_model</th>\n",
              "    </tr>\n",
              "  </thead>\n",
              "  <tbody>\n",
              "    <tr>\n",
              "      <th>0</th>\n",
              "      <td>1877775838486905855</td>\n",
              "      <td>vivo</td>\n",
              "      <td>Y13</td>\n",
              "    </tr>\n",
              "    <tr>\n",
              "      <th>1</th>\n",
              "      <td>-2885977155535060505</td>\n",
              "      <td>vivo</td>\n",
              "      <td>Y13</td>\n",
              "    </tr>\n",
              "    <tr>\n",
              "      <th>2</th>\n",
              "      <td>-1805452415296473122</td>\n",
              "      <td>vivo</td>\n",
              "      <td>Y13</td>\n",
              "    </tr>\n",
              "    <tr>\n",
              "      <th>3</th>\n",
              "      <td>2550692186115864020</td>\n",
              "      <td>vivo</td>\n",
              "      <td>Y13</td>\n",
              "    </tr>\n",
              "    <tr>\n",
              "      <th>4</th>\n",
              "      <td>1516978092456918166</td>\n",
              "      <td>vivo</td>\n",
              "      <td>Y13</td>\n",
              "    </tr>\n",
              "    <tr>\n",
              "      <th>...</th>\n",
              "      <td>...</td>\n",
              "      <td>...</td>\n",
              "      <td>...</td>\n",
              "    </tr>\n",
              "    <tr>\n",
              "      <th>87721</th>\n",
              "      <td>-8463760279549544397</td>\n",
              "      <td>Oeri</td>\n",
              "      <td>Z1988</td>\n",
              "    </tr>\n",
              "    <tr>\n",
              "      <th>87722</th>\n",
              "      <td>-1827265414361726037</td>\n",
              "      <td>Oeri</td>\n",
              "      <td>Z1988</td>\n",
              "    </tr>\n",
              "    <tr>\n",
              "      <th>87723</th>\n",
              "      <td>2199613157955485294</td>\n",
              "      <td>Oeri</td>\n",
              "      <td>Z1988</td>\n",
              "    </tr>\n",
              "    <tr>\n",
              "      <th>87724</th>\n",
              "      <td>-5387173829047621361</td>\n",
              "      <td>PPTV</td>\n",
              "      <td>King 7</td>\n",
              "    </tr>\n",
              "    <tr>\n",
              "      <th>87725</th>\n",
              "      <td>-8790560034584248901</td>\n",
              "      <td>PPTV</td>\n",
              "      <td>King 7s</td>\n",
              "    </tr>\n",
              "  </tbody>\n",
              "</table>\n",
              "<p>87726 rows × 3 columns</p>\n",
              "</div>"
            ],
            "text/plain": [
              "                 device_id phone_brand device_model\n",
              "0      1877775838486905855        vivo          Y13\n",
              "1     -2885977155535060505        vivo          Y13\n",
              "2     -1805452415296473122        vivo          Y13\n",
              "3      2550692186115864020        vivo          Y13\n",
              "4      1516978092456918166        vivo          Y13\n",
              "...                    ...         ...          ...\n",
              "87721 -8463760279549544397       Oeri         Z1988\n",
              "87722 -1827265414361726037       Oeri         Z1988\n",
              "87723  2199613157955485294       Oeri         Z1988\n",
              "87724 -5387173829047621361        PPTV       King 7\n",
              "87725 -8790560034584248901        PPTV      King 7s\n",
              "\n",
              "[87726 rows x 3 columns]"
            ]
          },
          "metadata": {
            "tags": []
          },
          "execution_count": 20
        }
      ]
    },
    {
      "cell_type": "code",
      "metadata": {
        "id": "hHBx9cw5m74I",
        "colab": {
          "base_uri": "https://localhost:8080/"
        },
        "outputId": "39677ed0-b8f8-44b2-89b2-1db310ec89cf"
      },
      "source": [
        "df_phone_brand.groupby('phone_brand')['device_model'].unique()"
      ],
      "execution_count": 21,
      "outputs": [
        {
          "output_type": "execute_result",
          "data": {
            "text/plain": [
              "phone_brand\n",
              "ASUS            [ZenFone Max, ZenFone 2, ZenFone 5, ME371MG, F...\n",
              "Ai Pike                                           [IPH8, iPh-800]\n",
              "Aiyini                                               [U3, U2, i1]\n",
              "Amagatarai      [E8, K1, T87+, Touch 2C, Touch 2, L920, V8, T9...\n",
              "Association     [A880, Star 1 , Q507T, V5 Max, U960E, Grand X,...\n",
              "                                      ...                        \n",
              "black rice                                               [A1, A5]\n",
              "hammer                                [T1, Nut mobile phone , T2]\n",
              "pioneer                                              [K68w, K88L]\n",
              "vivo            [Y13, X6 L, Y35, Xperia SL, Y17T, X710L, X5M, ...\n",
              "waveguide       [LT01, T9108, L9, T9508, LT02, T9600, L108, L1...\n",
              "Name: device_model, Length: 114, dtype: object"
            ]
          },
          "metadata": {
            "tags": []
          },
          "execution_count": 21
        }
      ]
    },
    {
      "cell_type": "code",
      "metadata": {
        "id": "_WrgMFyam74J",
        "colab": {
          "base_uri": "https://localhost:8080/"
        },
        "outputId": "147611b2-6d81-4555-cff4-dcf57494ebf0"
      },
      "source": [
        "#find unique devices\n",
        "df_phone_brand['device_id'].nunique()"
      ],
      "execution_count": 22,
      "outputs": [
        {
          "output_type": "execute_result",
          "data": {
            "text/plain": [
              "87726"
            ]
          },
          "metadata": {
            "tags": []
          },
          "execution_count": 22
        }
      ]
    },
    {
      "cell_type": "code",
      "metadata": {
        "id": "97INd2SLm74J",
        "outputId": "0a919d45-9f91-45ce-84ac-4334fa623c44"
      },
      "source": [
        "\"\"\"\n",
        "from pandas_profiling import ProfileReport\n",
        "profile = ProfileReport(df_phone_brand, title='Telecom Profiling Report for Phone and Brand', html={'style':{'full_width':True}})\n",
        "profile.to_file(output_file=\"PreProfiling_PhoneBrand.html\") \n",
        "\"\"\""
      ],
      "execution_count": null,
      "outputs": [
        {
          "output_type": "execute_result",
          "data": {
            "text/plain": [
              "'\\nfrom pandas_profiling import ProfileReport\\nprofile = ProfileReport(df_phone_brand, title=\\'Telecom Profiling Report for Phone and Brand\\', html={\\'style\\':{\\'full_width\\':True}})\\nprofile.to_file(output_file=\"PreProfiling_PhoneBrand.html\") \\n'"
            ]
          },
          "metadata": {
            "tags": []
          },
          "execution_count": 21
        }
      ]
    },
    {
      "cell_type": "code",
      "metadata": {
        "id": "caNsm1b6m74J",
        "colab": {
          "base_uri": "https://localhost:8080/"
        },
        "outputId": "88a27d43-2177-43a5-d022-d6ff2b999fa5"
      },
      "source": [
        "#Merging the two DataFrames into one on Device_id\n",
        "df_gender_phone_brand_merge = pd.merge(df_phone_brand,df_gender_age, how=\"outer\", on=\"device_id\")\n",
        "df_gender_phone_brand_merge.info()\n"
      ],
      "execution_count": 23,
      "outputs": [
        {
          "output_type": "stream",
          "text": [
            "<class 'pandas.core.frame.DataFrame'>\n",
            "Int64Index: 87754 entries, 0 to 87753\n",
            "Data columns (total 6 columns):\n",
            " #   Column        Non-Null Count  Dtype  \n",
            "---  ------        --------------  -----  \n",
            " 0   device_id     87754 non-null  int64  \n",
            " 1   phone_brand   87726 non-null  object \n",
            " 2   device_model  87726 non-null  object \n",
            " 3   gender        74645 non-null  object \n",
            " 4   age           74645 non-null  float64\n",
            " 5   group         74645 non-null  object \n",
            "dtypes: float64(1), int64(1), object(4)\n",
            "memory usage: 4.7+ MB\n"
          ],
          "name": "stdout"
        }
      ]
    },
    {
      "cell_type": "code",
      "metadata": {
        "id": "R5ubLHqWm74K",
        "colab": {
          "base_uri": "https://localhost:8080/",
          "height": 195
        },
        "outputId": "2bffc344-5c80-43ff-cb8e-6904c1dfe192"
      },
      "source": [
        "df_gender_phone_brand_merge.head()"
      ],
      "execution_count": 24,
      "outputs": [
        {
          "output_type": "execute_result",
          "data": {
            "text/html": [
              "<div>\n",
              "<style scoped>\n",
              "    .dataframe tbody tr th:only-of-type {\n",
              "        vertical-align: middle;\n",
              "    }\n",
              "\n",
              "    .dataframe tbody tr th {\n",
              "        vertical-align: top;\n",
              "    }\n",
              "\n",
              "    .dataframe thead th {\n",
              "        text-align: right;\n",
              "    }\n",
              "</style>\n",
              "<table border=\"1\" class=\"dataframe\">\n",
              "  <thead>\n",
              "    <tr style=\"text-align: right;\">\n",
              "      <th></th>\n",
              "      <th>device_id</th>\n",
              "      <th>phone_brand</th>\n",
              "      <th>device_model</th>\n",
              "      <th>gender</th>\n",
              "      <th>age</th>\n",
              "      <th>group</th>\n",
              "    </tr>\n",
              "  </thead>\n",
              "  <tbody>\n",
              "    <tr>\n",
              "      <th>0</th>\n",
              "      <td>1877775838486905855</td>\n",
              "      <td>vivo</td>\n",
              "      <td>Y13</td>\n",
              "      <td>NaN</td>\n",
              "      <td>NaN</td>\n",
              "      <td>NaN</td>\n",
              "    </tr>\n",
              "    <tr>\n",
              "      <th>1</th>\n",
              "      <td>-2885977155535060505</td>\n",
              "      <td>vivo</td>\n",
              "      <td>Y13</td>\n",
              "      <td>NaN</td>\n",
              "      <td>NaN</td>\n",
              "      <td>NaN</td>\n",
              "    </tr>\n",
              "    <tr>\n",
              "      <th>2</th>\n",
              "      <td>-1805452415296473122</td>\n",
              "      <td>vivo</td>\n",
              "      <td>Y13</td>\n",
              "      <td>NaN</td>\n",
              "      <td>NaN</td>\n",
              "      <td>NaN</td>\n",
              "    </tr>\n",
              "    <tr>\n",
              "      <th>3</th>\n",
              "      <td>2550692186115864020</td>\n",
              "      <td>vivo</td>\n",
              "      <td>Y13</td>\n",
              "      <td>NaN</td>\n",
              "      <td>NaN</td>\n",
              "      <td>NaN</td>\n",
              "    </tr>\n",
              "    <tr>\n",
              "      <th>4</th>\n",
              "      <td>1516978092456918166</td>\n",
              "      <td>vivo</td>\n",
              "      <td>Y13</td>\n",
              "      <td>NaN</td>\n",
              "      <td>NaN</td>\n",
              "      <td>NaN</td>\n",
              "    </tr>\n",
              "  </tbody>\n",
              "</table>\n",
              "</div>"
            ],
            "text/plain": [
              "             device_id phone_brand device_model gender  age group\n",
              "0  1877775838486905855        vivo          Y13    NaN  NaN   NaN\n",
              "1 -2885977155535060505        vivo          Y13    NaN  NaN   NaN\n",
              "2 -1805452415296473122        vivo          Y13    NaN  NaN   NaN\n",
              "3  2550692186115864020        vivo          Y13    NaN  NaN   NaN\n",
              "4  1516978092456918166        vivo          Y13    NaN  NaN   NaN"
            ]
          },
          "metadata": {
            "tags": []
          },
          "execution_count": 24
        }
      ]
    },
    {
      "cell_type": "code",
      "metadata": {
        "id": "rqUjrlzjm74L",
        "colab": {
          "base_uri": "https://localhost:8080/",
          "height": 195
        },
        "outputId": "d6bfc483-3307-4377-c69f-3ceb6719fdf5"
      },
      "source": [
        "df_gender_phone_brand_merge.tail()"
      ],
      "execution_count": 25,
      "outputs": [
        {
          "output_type": "execute_result",
          "data": {
            "text/html": [
              "<div>\n",
              "<style scoped>\n",
              "    .dataframe tbody tr th:only-of-type {\n",
              "        vertical-align: middle;\n",
              "    }\n",
              "\n",
              "    .dataframe tbody tr th {\n",
              "        vertical-align: top;\n",
              "    }\n",
              "\n",
              "    .dataframe thead th {\n",
              "        text-align: right;\n",
              "    }\n",
              "</style>\n",
              "<table border=\"1\" class=\"dataframe\">\n",
              "  <thead>\n",
              "    <tr style=\"text-align: right;\">\n",
              "      <th></th>\n",
              "      <th>device_id</th>\n",
              "      <th>phone_brand</th>\n",
              "      <th>device_model</th>\n",
              "      <th>gender</th>\n",
              "      <th>age</th>\n",
              "      <th>group</th>\n",
              "    </tr>\n",
              "  </thead>\n",
              "  <tbody>\n",
              "    <tr>\n",
              "      <th>87749</th>\n",
              "      <td>-4694231482794047022</td>\n",
              "      <td>NaN</td>\n",
              "      <td>NaN</td>\n",
              "      <td>M</td>\n",
              "      <td>26.0</td>\n",
              "      <td>M23-26</td>\n",
              "    </tr>\n",
              "    <tr>\n",
              "      <th>87750</th>\n",
              "      <td>-2827401485760766914</td>\n",
              "      <td>NaN</td>\n",
              "      <td>NaN</td>\n",
              "      <td>M</td>\n",
              "      <td>26.0</td>\n",
              "      <td>M23-26</td>\n",
              "    </tr>\n",
              "    <tr>\n",
              "      <th>87751</th>\n",
              "      <td>-4274187834430768408</td>\n",
              "      <td>NaN</td>\n",
              "      <td>NaN</td>\n",
              "      <td>M</td>\n",
              "      <td>22.0</td>\n",
              "      <td>M22-</td>\n",
              "    </tr>\n",
              "    <tr>\n",
              "      <th>87752</th>\n",
              "      <td>-7314067039317617491</td>\n",
              "      <td>NaN</td>\n",
              "      <td>NaN</td>\n",
              "      <td>F</td>\n",
              "      <td>27.0</td>\n",
              "      <td>F27-28</td>\n",
              "    </tr>\n",
              "    <tr>\n",
              "      <th>87753</th>\n",
              "      <td>8778900262406705317</td>\n",
              "      <td>NaN</td>\n",
              "      <td>NaN</td>\n",
              "      <td>M</td>\n",
              "      <td>27.0</td>\n",
              "      <td>M27-28</td>\n",
              "    </tr>\n",
              "  </tbody>\n",
              "</table>\n",
              "</div>"
            ],
            "text/plain": [
              "                 device_id phone_brand device_model gender   age   group\n",
              "87749 -4694231482794047022         NaN          NaN      M  26.0  M23-26\n",
              "87750 -2827401485760766914         NaN          NaN      M  26.0  M23-26\n",
              "87751 -4274187834430768408         NaN          NaN      M  22.0    M22-\n",
              "87752 -7314067039317617491         NaN          NaN      F  27.0  F27-28\n",
              "87753  8778900262406705317         NaN          NaN      M  27.0  M27-28"
            ]
          },
          "metadata": {
            "tags": []
          },
          "execution_count": 25
        }
      ]
    },
    {
      "cell_type": "code",
      "metadata": {
        "id": "DEuC2WsAm74L"
      },
      "source": [
        "df_gender_phone_brand_merge['device_id']=df_gender_phone_brand_merge['device_id'].astype('str')"
      ],
      "execution_count": 26,
      "outputs": []
    },
    {
      "cell_type": "code",
      "metadata": {
        "id": "Jiyp1UZMm74L",
        "colab": {
          "base_uri": "https://localhost:8080/"
        },
        "outputId": "2b3909e2-7b79-446a-fcc4-b66b93402508"
      },
      "source": [
        "df_gender_phone_brand_merge.info()"
      ],
      "execution_count": 27,
      "outputs": [
        {
          "output_type": "stream",
          "text": [
            "<class 'pandas.core.frame.DataFrame'>\n",
            "Int64Index: 87754 entries, 0 to 87753\n",
            "Data columns (total 6 columns):\n",
            " #   Column        Non-Null Count  Dtype  \n",
            "---  ------        --------------  -----  \n",
            " 0   device_id     87754 non-null  object \n",
            " 1   phone_brand   87726 non-null  object \n",
            " 2   device_model  87726 non-null  object \n",
            " 3   gender        74645 non-null  object \n",
            " 4   age           74645 non-null  float64\n",
            " 5   group         74645 non-null  object \n",
            "dtypes: float64(1), object(5)\n",
            "memory usage: 4.7+ MB\n"
          ],
          "name": "stdout"
        }
      ]
    },
    {
      "cell_type": "code",
      "metadata": {
        "id": "7_Q7HJdFm74N",
        "outputId": "27687341-2594-4bca-ba0b-ea69972bd825"
      },
      "source": [
        "\"\"\"\n",
        "from pandas_profiling import ProfileReport\n",
        "profile = ProfileReport(df_gender_phone_brand_merge, title='Telecom Profiling Report for PhoneBrand_GenderAge', html={'style':{'full_width':True}})\n",
        "profile.to_file(output_file=\"PreProfiling_PhoneBrand_GenderAge.html\") \n",
        "\"\"\""
      ],
      "execution_count": null,
      "outputs": [
        {
          "output_type": "execute_result",
          "data": {
            "text/plain": [
              "'\\nfrom pandas_profiling import ProfileReport\\nprofile = ProfileReport(df_gender_phone_brand_merge, title=\\'Telecom Profiling Report for PhoneBrand_GenderAge\\', html={\\'style\\':{\\'full_width\\':True}})\\nprofile.to_file(output_file=\"PreProfiling_PhoneBrand_GenderAge.html\") \\n'"
            ]
          },
          "metadata": {
            "tags": []
          },
          "execution_count": 27
        }
      ]
    },
    {
      "cell_type": "code",
      "metadata": {
        "id": "-NCpw975m74O"
      },
      "source": [
        "\n",
        "!pip install -U -q PyDrive\n",
        "  \n",
        "from pydrive.auth import GoogleAuth\n",
        "from pydrive.drive import GoogleDrive\n",
        "from google.colab import auth\n",
        "from oauth2client.client import GoogleCredentials\n",
        "  \n",
        "  \n",
        "# Authenticate and create the PyDrive client.\n",
        "auth.authenticate_user()\n",
        "gauth = GoogleAuth()\n",
        "gauth.credentials = GoogleCredentials.get_application_default()\n",
        "drive = GoogleDrive(gauth)\n",
        "\n",
        "#Verfication and validate to connect to your google drive\n"
      ],
      "execution_count": 32,
      "outputs": []
    },
    {
      "cell_type": "code",
      "metadata": {
        "id": "0G96THwum74P",
        "colab": {
          "base_uri": "https://localhost:8080/",
          "height": 53
        },
        "outputId": "d0fe766b-ea4b-4c80-9d5b-67d4e677e595"
      },
      "source": [
        "\"\"\"\n",
        "link = 'https://drive.google.com/file/d/1Ir3rW0YTKmk7MSjVjCU_UGMQevhe1v9W/view?usp=sharing'\n",
        "  \n",
        "# to get the id part of the file\n",
        "id = link.split(\"/\")[-2]\n",
        "  \n",
        "downloaded = drive.CreateFile({'id':id}) \n",
        "downloaded.GetContentFile('events_data.csv')  \n",
        "\"\"\""
      ],
      "execution_count": 29,
      "outputs": [
        {
          "output_type": "execute_result",
          "data": {
            "application/vnd.google.colaboratory.intrinsic+json": {
              "type": "string"
            },
            "text/plain": [
              "'\\nlink = \\'https://drive.google.com/file/d/1Ir3rW0YTKmk7MSjVjCU_UGMQevhe1v9W/view?usp=sharing\\'\\n  \\n# to get the id part of the file\\nid = link.split(\"/\")[-2]\\n  \\ndownloaded = drive.CreateFile({\\'id\\':id}) \\ndownloaded.GetContentFile(\\'events_data.csv\\')  \\n'"
            ]
          },
          "metadata": {
            "tags": []
          },
          "execution_count": 29
        }
      ]
    },
    {
      "cell_type": "code",
      "metadata": {
        "id": "Q1aee9-jlYwJ"
      },
      "source": [
        "\n",
        "link = 'https://drive.google.com/file/d/1Ir3rW0YTKmk7MSjVjCU_UGMQevhe1v9W/view?usp=sharing'\n",
        "  \n",
        "# to get the id part of the file\n",
        "id = link.split(\"/\")[-2]\n",
        "  \n",
        "downloaded = drive.CreateFile({'id':id}) \n",
        "downloaded.GetContentFile('events_data.csv')  "
      ],
      "execution_count": 33,
      "outputs": []
    },
    {
      "cell_type": "code",
      "metadata": {
        "id": "QjYvwqCLm74P",
        "colab": {
          "base_uri": "https://localhost:8080/"
        },
        "outputId": "ee129a9e-de59-43b1-c8a3-2a24e443694a"
      },
      "source": [
        "df_events= pd.read_csv('.//events_data.csv',parse_dates=['timestamp'],dtype={\"device_id\":str,\"city\":str,\"state\":str})\n",
        "df_events.info()"
      ],
      "execution_count": 34,
      "outputs": [
        {
          "output_type": "stream",
          "text": [
            "<class 'pandas.core.frame.DataFrame'>\n",
            "RangeIndex: 3252950 entries, 0 to 3252949\n",
            "Data columns (total 7 columns):\n",
            " #   Column     Dtype         \n",
            "---  ------     -----         \n",
            " 0   event_id   int64         \n",
            " 1   device_id  object        \n",
            " 2   timestamp  datetime64[ns]\n",
            " 3   longitude  float64       \n",
            " 4   latitude   float64       \n",
            " 5   city       object        \n",
            " 6   state      object        \n",
            "dtypes: datetime64[ns](1), float64(2), int64(1), object(3)\n",
            "memory usage: 173.7+ MB\n"
          ],
          "name": "stdout"
        }
      ]
    },
    {
      "cell_type": "code",
      "metadata": {
        "id": "gbe5LRV2m74Q",
        "colab": {
          "base_uri": "https://localhost:8080/",
          "height": 195
        },
        "outputId": "8931702d-6aca-4c5e-e0d3-9701e8e9d2c3"
      },
      "source": [
        "df_events.head()"
      ],
      "execution_count": 35,
      "outputs": [
        {
          "output_type": "execute_result",
          "data": {
            "text/html": [
              "<div>\n",
              "<style scoped>\n",
              "    .dataframe tbody tr th:only-of-type {\n",
              "        vertical-align: middle;\n",
              "    }\n",
              "\n",
              "    .dataframe tbody tr th {\n",
              "        vertical-align: top;\n",
              "    }\n",
              "\n",
              "    .dataframe thead th {\n",
              "        text-align: right;\n",
              "    }\n",
              "</style>\n",
              "<table border=\"1\" class=\"dataframe\">\n",
              "  <thead>\n",
              "    <tr style=\"text-align: right;\">\n",
              "      <th></th>\n",
              "      <th>event_id</th>\n",
              "      <th>device_id</th>\n",
              "      <th>timestamp</th>\n",
              "      <th>longitude</th>\n",
              "      <th>latitude</th>\n",
              "      <th>city</th>\n",
              "      <th>state</th>\n",
              "    </tr>\n",
              "  </thead>\n",
              "  <tbody>\n",
              "    <tr>\n",
              "      <th>0</th>\n",
              "      <td>2765368</td>\n",
              "      <td>2973347786994914304</td>\n",
              "      <td>2016-05-07 22:52:05</td>\n",
              "      <td>77.225676</td>\n",
              "      <td>28.730140</td>\n",
              "      <td>Delhi</td>\n",
              "      <td>Delhi</td>\n",
              "    </tr>\n",
              "    <tr>\n",
              "      <th>1</th>\n",
              "      <td>2955066</td>\n",
              "      <td>4734221357723754978</td>\n",
              "      <td>2016-05-01 20:44:16</td>\n",
              "      <td>88.388361</td>\n",
              "      <td>22.660325</td>\n",
              "      <td>Calcutta</td>\n",
              "      <td>WestBengal</td>\n",
              "    </tr>\n",
              "    <tr>\n",
              "      <th>2</th>\n",
              "      <td>605968</td>\n",
              "      <td>-3264499652692492784</td>\n",
              "      <td>2016-05-02 14:23:04</td>\n",
              "      <td>77.256809</td>\n",
              "      <td>28.757906</td>\n",
              "      <td>Delhi</td>\n",
              "      <td>Delhi</td>\n",
              "    </tr>\n",
              "    <tr>\n",
              "      <th>3</th>\n",
              "      <td>448114</td>\n",
              "      <td>5731369272434022440</td>\n",
              "      <td>2016-05-03 13:21:16</td>\n",
              "      <td>80.343613</td>\n",
              "      <td>13.153332</td>\n",
              "      <td>Chennai</td>\n",
              "      <td>TamilNadu</td>\n",
              "    </tr>\n",
              "    <tr>\n",
              "      <th>4</th>\n",
              "      <td>665740</td>\n",
              "      <td>338888002570799963</td>\n",
              "      <td>2016-05-06 03:51:05</td>\n",
              "      <td>85.997745</td>\n",
              "      <td>23.842609</td>\n",
              "      <td>Bokaro</td>\n",
              "      <td>Jharkhand</td>\n",
              "    </tr>\n",
              "  </tbody>\n",
              "</table>\n",
              "</div>"
            ],
            "text/plain": [
              "   event_id             device_id  ...      city       state\n",
              "0   2765368   2973347786994914304  ...     Delhi       Delhi\n",
              "1   2955066   4734221357723754978  ...  Calcutta  WestBengal\n",
              "2    605968  -3264499652692492784  ...     Delhi       Delhi\n",
              "3    448114   5731369272434022440  ...   Chennai   TamilNadu\n",
              "4    665740    338888002570799963  ...    Bokaro   Jharkhand\n",
              "\n",
              "[5 rows x 7 columns]"
            ]
          },
          "metadata": {
            "tags": []
          },
          "execution_count": 35
        }
      ]
    },
    {
      "cell_type": "code",
      "metadata": {
        "id": "gmYa1IAdm74S",
        "colab": {
          "base_uri": "https://localhost:8080/",
          "height": 195
        },
        "outputId": "2ae51a3a-757b-4006-e16b-a724124c852b"
      },
      "source": [
        "df_events.tail()"
      ],
      "execution_count": 36,
      "outputs": [
        {
          "output_type": "execute_result",
          "data": {
            "text/html": [
              "<div>\n",
              "<style scoped>\n",
              "    .dataframe tbody tr th:only-of-type {\n",
              "        vertical-align: middle;\n",
              "    }\n",
              "\n",
              "    .dataframe tbody tr th {\n",
              "        vertical-align: top;\n",
              "    }\n",
              "\n",
              "    .dataframe thead th {\n",
              "        text-align: right;\n",
              "    }\n",
              "</style>\n",
              "<table border=\"1\" class=\"dataframe\">\n",
              "  <thead>\n",
              "    <tr style=\"text-align: right;\">\n",
              "      <th></th>\n",
              "      <th>event_id</th>\n",
              "      <th>device_id</th>\n",
              "      <th>timestamp</th>\n",
              "      <th>longitude</th>\n",
              "      <th>latitude</th>\n",
              "      <th>city</th>\n",
              "      <th>state</th>\n",
              "    </tr>\n",
              "  </thead>\n",
              "  <tbody>\n",
              "    <tr>\n",
              "      <th>3252945</th>\n",
              "      <td>2687452</td>\n",
              "      <td>-1937027962234299179</td>\n",
              "      <td>2016-05-07 23:33:14</td>\n",
              "      <td>73.891597</td>\n",
              "      <td>18.544124</td>\n",
              "      <td>Pune</td>\n",
              "      <td>Maharashtra</td>\n",
              "    </tr>\n",
              "    <tr>\n",
              "      <th>3252946</th>\n",
              "      <td>1051580</td>\n",
              "      <td>3345850694879477383</td>\n",
              "      <td>2016-05-03 05:13:30</td>\n",
              "      <td>72.837258</td>\n",
              "      <td>19.018432</td>\n",
              "      <td>Mumbai</td>\n",
              "      <td>Maharashtra</td>\n",
              "    </tr>\n",
              "    <tr>\n",
              "      <th>3252947</th>\n",
              "      <td>1316227</td>\n",
              "      <td>-6406040271586685138</td>\n",
              "      <td>2016-05-01 16:03:28</td>\n",
              "      <td>77.235578</td>\n",
              "      <td>28.764065</td>\n",
              "      <td>Delhi</td>\n",
              "      <td>Delhi</td>\n",
              "    </tr>\n",
              "    <tr>\n",
              "      <th>3252948</th>\n",
              "      <td>381262</td>\n",
              "      <td>-2920741109167081271</td>\n",
              "      <td>2016-05-05 17:22:36</td>\n",
              "      <td>83.326044</td>\n",
              "      <td>17.765488</td>\n",
              "      <td>Visakhapatnam</td>\n",
              "      <td>AndhraPradesh</td>\n",
              "    </tr>\n",
              "    <tr>\n",
              "      <th>3252949</th>\n",
              "      <td>522592</td>\n",
              "      <td>3212750469059608826</td>\n",
              "      <td>2016-05-07 17:34:18</td>\n",
              "      <td>77.308533</td>\n",
              "      <td>9.779918</td>\n",
              "      <td>Kambam</td>\n",
              "      <td>TamilNadu</td>\n",
              "    </tr>\n",
              "  </tbody>\n",
              "</table>\n",
              "</div>"
            ],
            "text/plain": [
              "         event_id             device_id  ...           city          state\n",
              "3252945   2687452  -1937027962234299179  ...           Pune    Maharashtra\n",
              "3252946   1051580   3345850694879477383  ...         Mumbai    Maharashtra\n",
              "3252947   1316227  -6406040271586685138  ...          Delhi          Delhi\n",
              "3252948    381262  -2920741109167081271  ...  Visakhapatnam  AndhraPradesh\n",
              "3252949    522592   3212750469059608826  ...         Kambam      TamilNadu\n",
              "\n",
              "[5 rows x 7 columns]"
            ]
          },
          "metadata": {
            "tags": []
          },
          "execution_count": 36
        }
      ]
    },
    {
      "cell_type": "code",
      "metadata": {
        "id": "Zgei3Opcm74T",
        "colab": {
          "base_uri": "https://localhost:8080/"
        },
        "outputId": "347800ae-dfc7-46e4-e462-9ddd111f5ee0"
      },
      "source": [
        "#Find the cities with Null state.\n",
        "df_MH_events_data= df_events[df_events['state'].isnull()]\n",
        "df_MH_events_data['city'].unique()\n"
      ],
      "execution_count": 37,
      "outputs": [
        {
          "output_type": "execute_result",
          "data": {
            "text/plain": [
              "array(['Pune', 'Visakhapatnam', 'Indore', 'Chennai', 'Delhi',\n",
              "       'Channapatna', 'Jaipur', 'Gangarampur', 'Arambagh'], dtype=object)"
            ]
          },
          "metadata": {
            "tags": []
          },
          "execution_count": 37
        }
      ]
    },
    {
      "cell_type": "code",
      "metadata": {
        "id": "aurrNnEEm74T",
        "colab": {
          "base_uri": "https://localhost:8080/"
        },
        "outputId": "edd18a2e-c651-44ef-c40c-55a81bbb8663"
      },
      "source": [
        "#find mapping of city and state\n",
        "df_citystate = df_events.dropna(subset=['state']).drop_duplicates('city').set_index('city')['state']\n",
        "df_citystate.head(10)"
      ],
      "execution_count": 38,
      "outputs": [
        {
          "output_type": "execute_result",
          "data": {
            "text/plain": [
              "city\n",
              "Delhi                    Delhi\n",
              "Calcutta            WestBengal\n",
              "Chennai              TamilNadu\n",
              "Bokaro               Jharkhand\n",
              "Visakhapatnam    AndhraPradesh\n",
              "Wanparti         AndhraPradesh\n",
              "Mumbai             Maharashtra\n",
              "Pune               Maharashtra\n",
              "Gandhidham             Gujarat\n",
              "Thalassery              Kerala\n",
              "Name: state, dtype: object"
            ]
          },
          "metadata": {
            "tags": []
          },
          "execution_count": 38
        }
      ]
    },
    {
      "cell_type": "code",
      "metadata": {
        "id": "hDFFjorMm74U",
        "colab": {
          "base_uri": "https://localhost:8080/",
          "height": 47
        },
        "outputId": "57a4f0db-01a3-4ca7-ec9c-7924ee3a1591"
      },
      "source": [
        "#update state where it is Nan\n",
        "df_events['state'] = df_events['state'].fillna(df_events['city'].map(df_citystate))\n",
        "                                               \n",
        "#find if state is still Nan                                          \n",
        "df_events[df_events['state'].isnull()]\n"
      ],
      "execution_count": 39,
      "outputs": [
        {
          "output_type": "execute_result",
          "data": {
            "text/html": [
              "<div>\n",
              "<style scoped>\n",
              "    .dataframe tbody tr th:only-of-type {\n",
              "        vertical-align: middle;\n",
              "    }\n",
              "\n",
              "    .dataframe tbody tr th {\n",
              "        vertical-align: top;\n",
              "    }\n",
              "\n",
              "    .dataframe thead th {\n",
              "        text-align: right;\n",
              "    }\n",
              "</style>\n",
              "<table border=\"1\" class=\"dataframe\">\n",
              "  <thead>\n",
              "    <tr style=\"text-align: right;\">\n",
              "      <th></th>\n",
              "      <th>event_id</th>\n",
              "      <th>device_id</th>\n",
              "      <th>timestamp</th>\n",
              "      <th>longitude</th>\n",
              "      <th>latitude</th>\n",
              "      <th>city</th>\n",
              "      <th>state</th>\n",
              "    </tr>\n",
              "  </thead>\n",
              "  <tbody>\n",
              "  </tbody>\n",
              "</table>\n",
              "</div>"
            ],
            "text/plain": [
              "Empty DataFrame\n",
              "Columns: [event_id, device_id, timestamp, longitude, latitude, city, state]\n",
              "Index: []"
            ]
          },
          "metadata": {
            "tags": []
          },
          "execution_count": 39
        }
      ]
    },
    {
      "cell_type": "code",
      "metadata": {
        "id": "0fLKj_NUm74U",
        "colab": {
          "base_uri": "https://localhost:8080/"
        },
        "outputId": "1b2ba6fb-95ea-41ca-b53e-7344c0606658"
      },
      "source": [
        "#Filter out Maharashtra state data only\n",
        "df_MH_events_data= df_events[df_events['state']=='Maharashtra']\n",
        "df_MH_events_data.info()\n"
      ],
      "execution_count": 40,
      "outputs": [
        {
          "output_type": "stream",
          "text": [
            "<class 'pandas.core.frame.DataFrame'>\n",
            "Int64Index: 677168 entries, 9 to 3252946\n",
            "Data columns (total 7 columns):\n",
            " #   Column     Non-Null Count   Dtype         \n",
            "---  ------     --------------   -----         \n",
            " 0   event_id   677168 non-null  int64         \n",
            " 1   device_id  677096 non-null  object        \n",
            " 2   timestamp  677168 non-null  datetime64[ns]\n",
            " 3   longitude  677105 non-null  float64       \n",
            " 4   latitude   677105 non-null  float64       \n",
            " 5   city       677168 non-null  object        \n",
            " 6   state      677168 non-null  object        \n",
            "dtypes: datetime64[ns](1), float64(2), int64(1), object(3)\n",
            "memory usage: 41.3+ MB\n"
          ],
          "name": "stdout"
        }
      ]
    },
    {
      "cell_type": "code",
      "metadata": {
        "id": "x_eNwEJRm74V",
        "colab": {
          "base_uri": "https://localhost:8080/",
          "height": 402
        },
        "outputId": "2ee678d9-6f3a-4540-8c8f-1e7d29d849f5"
      },
      "source": [
        "df_MH_events_data[df_MH_events_data['device_id'].isnull()]"
      ],
      "execution_count": 41,
      "outputs": [
        {
          "output_type": "execute_result",
          "data": {
            "text/html": [
              "<div>\n",
              "<style scoped>\n",
              "    .dataframe tbody tr th:only-of-type {\n",
              "        vertical-align: middle;\n",
              "    }\n",
              "\n",
              "    .dataframe tbody tr th {\n",
              "        vertical-align: top;\n",
              "    }\n",
              "\n",
              "    .dataframe thead th {\n",
              "        text-align: right;\n",
              "    }\n",
              "</style>\n",
              "<table border=\"1\" class=\"dataframe\">\n",
              "  <thead>\n",
              "    <tr style=\"text-align: right;\">\n",
              "      <th></th>\n",
              "      <th>event_id</th>\n",
              "      <th>device_id</th>\n",
              "      <th>timestamp</th>\n",
              "      <th>longitude</th>\n",
              "      <th>latitude</th>\n",
              "      <th>city</th>\n",
              "      <th>state</th>\n",
              "    </tr>\n",
              "  </thead>\n",
              "  <tbody>\n",
              "    <tr>\n",
              "      <th>45052</th>\n",
              "      <td>1129522</td>\n",
              "      <td>NaN</td>\n",
              "      <td>2016-05-02 22:05:43</td>\n",
              "      <td>73.862756</td>\n",
              "      <td>18.628057</td>\n",
              "      <td>Pune</td>\n",
              "      <td>Maharashtra</td>\n",
              "    </tr>\n",
              "    <tr>\n",
              "      <th>59590</th>\n",
              "      <td>690029</td>\n",
              "      <td>NaN</td>\n",
              "      <td>2016-05-05 20:30:03</td>\n",
              "      <td>73.860165</td>\n",
              "      <td>18.566925</td>\n",
              "      <td>Pune</td>\n",
              "      <td>Maharashtra</td>\n",
              "    </tr>\n",
              "    <tr>\n",
              "      <th>106494</th>\n",
              "      <td>1722320</td>\n",
              "      <td>NaN</td>\n",
              "      <td>2016-05-04 16:57:25</td>\n",
              "      <td>73.926499</td>\n",
              "      <td>18.614812</td>\n",
              "      <td>Pune</td>\n",
              "      <td>Maharashtra</td>\n",
              "    </tr>\n",
              "    <tr>\n",
              "      <th>119854</th>\n",
              "      <td>1753386</td>\n",
              "      <td>NaN</td>\n",
              "      <td>2016-05-07 17:48:34</td>\n",
              "      <td>73.926499</td>\n",
              "      <td>18.614812</td>\n",
              "      <td>Pune</td>\n",
              "      <td>Maharashtra</td>\n",
              "    </tr>\n",
              "    <tr>\n",
              "      <th>135788</th>\n",
              "      <td>2860746</td>\n",
              "      <td>NaN</td>\n",
              "      <td>2016-05-03 18:32:17</td>\n",
              "      <td>73.862756</td>\n",
              "      <td>18.628057</td>\n",
              "      <td>Pune</td>\n",
              "      <td>Maharashtra</td>\n",
              "    </tr>\n",
              "    <tr>\n",
              "      <th>...</th>\n",
              "      <td>...</td>\n",
              "      <td>...</td>\n",
              "      <td>...</td>\n",
              "      <td>...</td>\n",
              "      <td>...</td>\n",
              "      <td>...</td>\n",
              "      <td>...</td>\n",
              "    </tr>\n",
              "    <tr>\n",
              "      <th>3016652</th>\n",
              "      <td>2802507</td>\n",
              "      <td>NaN</td>\n",
              "      <td>2016-05-03 11:43:25</td>\n",
              "      <td>73.860165</td>\n",
              "      <td>18.566925</td>\n",
              "      <td>Pune</td>\n",
              "      <td>Maharashtra</td>\n",
              "    </tr>\n",
              "    <tr>\n",
              "      <th>3026865</th>\n",
              "      <td>1660304</td>\n",
              "      <td>NaN</td>\n",
              "      <td>2016-05-06 22:15:44</td>\n",
              "      <td>73.862756</td>\n",
              "      <td>18.628057</td>\n",
              "      <td>Pune</td>\n",
              "      <td>Maharashtra</td>\n",
              "    </tr>\n",
              "    <tr>\n",
              "      <th>3067777</th>\n",
              "      <td>317114</td>\n",
              "      <td>NaN</td>\n",
              "      <td>2016-05-03 19:04:46</td>\n",
              "      <td>73.862756</td>\n",
              "      <td>18.628057</td>\n",
              "      <td>Pune</td>\n",
              "      <td>Maharashtra</td>\n",
              "    </tr>\n",
              "    <tr>\n",
              "      <th>3106136</th>\n",
              "      <td>455292</td>\n",
              "      <td>NaN</td>\n",
              "      <td>2016-05-01 16:15:02</td>\n",
              "      <td>73.860165</td>\n",
              "      <td>18.566925</td>\n",
              "      <td>Pune</td>\n",
              "      <td>Maharashtra</td>\n",
              "    </tr>\n",
              "    <tr>\n",
              "      <th>3135318</th>\n",
              "      <td>67957</td>\n",
              "      <td>NaN</td>\n",
              "      <td>2016-05-05 04:37:33</td>\n",
              "      <td>73.862756</td>\n",
              "      <td>18.628057</td>\n",
              "      <td>Pune</td>\n",
              "      <td>Maharashtra</td>\n",
              "    </tr>\n",
              "  </tbody>\n",
              "</table>\n",
              "<p>72 rows × 7 columns</p>\n",
              "</div>"
            ],
            "text/plain": [
              "         event_id device_id           timestamp  ...   latitude  city        state\n",
              "45052     1129522       NaN 2016-05-02 22:05:43  ...  18.628057  Pune  Maharashtra\n",
              "59590      690029       NaN 2016-05-05 20:30:03  ...  18.566925  Pune  Maharashtra\n",
              "106494    1722320       NaN 2016-05-04 16:57:25  ...  18.614812  Pune  Maharashtra\n",
              "119854    1753386       NaN 2016-05-07 17:48:34  ...  18.614812  Pune  Maharashtra\n",
              "135788    2860746       NaN 2016-05-03 18:32:17  ...  18.628057  Pune  Maharashtra\n",
              "...           ...       ...                 ...  ...        ...   ...          ...\n",
              "3016652   2802507       NaN 2016-05-03 11:43:25  ...  18.566925  Pune  Maharashtra\n",
              "3026865   1660304       NaN 2016-05-06 22:15:44  ...  18.628057  Pune  Maharashtra\n",
              "3067777    317114       NaN 2016-05-03 19:04:46  ...  18.628057  Pune  Maharashtra\n",
              "3106136    455292       NaN 2016-05-01 16:15:02  ...  18.566925  Pune  Maharashtra\n",
              "3135318     67957       NaN 2016-05-05 04:37:33  ...  18.628057  Pune  Maharashtra\n",
              "\n",
              "[72 rows x 7 columns]"
            ]
          },
          "metadata": {
            "tags": []
          },
          "execution_count": 41
        }
      ]
    },
    {
      "cell_type": "code",
      "metadata": {
        "id": "YFNnl2Shm74V"
      },
      "source": [
        "#Concatenate latitude and longitude\n",
        "df_MH_events_data['lat_long'] = [', '.join(str(x) for x in y) for y in map(tuple, df_MH_events_data[['latitude', 'longitude']].values)]\n"
      ],
      "execution_count": 42,
      "outputs": []
    },
    {
      "cell_type": "code",
      "metadata": {
        "id": "QXcCBQt7m74W"
      },
      "source": [
        "#create mapping between latitude and longitude column with device_id\n",
        "df_ll = df_MH_events_data.dropna(subset=['device_id']).drop_duplicates('lat_long').set_index('lat_long')['device_id'] \n",
        "\n"
      ],
      "execution_count": 43,
      "outputs": []
    },
    {
      "cell_type": "code",
      "metadata": {
        "id": "-henBKMLm74X"
      },
      "source": [
        "#update device_id where it is Nan using latitude and longitude columns\n",
        "\n",
        "df_MH_events_data['device_id'] = df_MH_events_data['device_id'].fillna(df_MH_events_data['lat_long'].map(df_ll))\n",
        "\n"
      ],
      "execution_count": 45,
      "outputs": []
    },
    {
      "cell_type": "code",
      "metadata": {
        "id": "1cUyNfO1m74Y",
        "colab": {
          "base_uri": "https://localhost:8080/",
          "height": 77
        },
        "outputId": "47089a9c-7006-43e8-b4cc-d369d260c4b8"
      },
      "source": [
        "#test random data for events\n",
        "df_MH_events_data[df_MH_events_data['event_id']==1129522]"
      ],
      "execution_count": 46,
      "outputs": [
        {
          "output_type": "execute_result",
          "data": {
            "text/html": [
              "<div>\n",
              "<style scoped>\n",
              "    .dataframe tbody tr th:only-of-type {\n",
              "        vertical-align: middle;\n",
              "    }\n",
              "\n",
              "    .dataframe tbody tr th {\n",
              "        vertical-align: top;\n",
              "    }\n",
              "\n",
              "    .dataframe thead th {\n",
              "        text-align: right;\n",
              "    }\n",
              "</style>\n",
              "<table border=\"1\" class=\"dataframe\">\n",
              "  <thead>\n",
              "    <tr style=\"text-align: right;\">\n",
              "      <th></th>\n",
              "      <th>event_id</th>\n",
              "      <th>device_id</th>\n",
              "      <th>timestamp</th>\n",
              "      <th>longitude</th>\n",
              "      <th>latitude</th>\n",
              "      <th>city</th>\n",
              "      <th>state</th>\n",
              "      <th>lat_long</th>\n",
              "    </tr>\n",
              "  </thead>\n",
              "  <tbody>\n",
              "    <tr>\n",
              "      <th>45052</th>\n",
              "      <td>1129522</td>\n",
              "      <td>9027085705222633039</td>\n",
              "      <td>2016-05-02 22:05:43</td>\n",
              "      <td>73.862756</td>\n",
              "      <td>18.628057</td>\n",
              "      <td>Pune</td>\n",
              "      <td>Maharashtra</td>\n",
              "      <td>18.628057, 73.862756</td>\n",
              "    </tr>\n",
              "  </tbody>\n",
              "</table>\n",
              "</div>"
            ],
            "text/plain": [
              "       event_id            device_id  ...        state              lat_long\n",
              "45052   1129522  9027085705222633039  ...  Maharashtra  18.628057, 73.862756\n",
              "\n",
              "[1 rows x 8 columns]"
            ]
          },
          "metadata": {
            "tags": []
          },
          "execution_count": 46
        }
      ]
    },
    {
      "cell_type": "code",
      "metadata": {
        "id": "ZHw8tVE7m74Z",
        "colab": {
          "base_uri": "https://localhost:8080/",
          "height": 77
        },
        "outputId": "e722f092-8e84-4712-925f-bada4f40afa1"
      },
      "source": [
        "#check longitude and latitude for the device\n",
        "df_events[df_events['device_id'] == '9027085705222633039'][['device_id','latitude','longitude']].drop_duplicates()"
      ],
      "execution_count": 47,
      "outputs": [
        {
          "output_type": "execute_result",
          "data": {
            "text/html": [
              "<div>\n",
              "<style scoped>\n",
              "    .dataframe tbody tr th:only-of-type {\n",
              "        vertical-align: middle;\n",
              "    }\n",
              "\n",
              "    .dataframe tbody tr th {\n",
              "        vertical-align: top;\n",
              "    }\n",
              "\n",
              "    .dataframe thead th {\n",
              "        text-align: right;\n",
              "    }\n",
              "</style>\n",
              "<table border=\"1\" class=\"dataframe\">\n",
              "  <thead>\n",
              "    <tr style=\"text-align: right;\">\n",
              "      <th></th>\n",
              "      <th>device_id</th>\n",
              "      <th>latitude</th>\n",
              "      <th>longitude</th>\n",
              "    </tr>\n",
              "  </thead>\n",
              "  <tbody>\n",
              "    <tr>\n",
              "      <th>3031</th>\n",
              "      <td>9027085705222633039</td>\n",
              "      <td>18.628057</td>\n",
              "      <td>73.862756</td>\n",
              "    </tr>\n",
              "  </tbody>\n",
              "</table>\n",
              "</div>"
            ],
            "text/plain": [
              "                device_id   latitude  longitude\n",
              "3031  9027085705222633039  18.628057  73.862756"
            ]
          },
          "metadata": {
            "tags": []
          },
          "execution_count": 47
        }
      ]
    },
    {
      "cell_type": "code",
      "metadata": {
        "id": "xsNXDBbTm74Z",
        "colab": {
          "base_uri": "https://localhost:8080/",
          "height": 47
        },
        "outputId": "a2bc3eaa-dafb-46d0-b7e3-4352e87caca4"
      },
      "source": [
        "df_MH_events_data[df_MH_events_data['device_id'].isnull()]"
      ],
      "execution_count": 48,
      "outputs": [
        {
          "output_type": "execute_result",
          "data": {
            "text/html": [
              "<div>\n",
              "<style scoped>\n",
              "    .dataframe tbody tr th:only-of-type {\n",
              "        vertical-align: middle;\n",
              "    }\n",
              "\n",
              "    .dataframe tbody tr th {\n",
              "        vertical-align: top;\n",
              "    }\n",
              "\n",
              "    .dataframe thead th {\n",
              "        text-align: right;\n",
              "    }\n",
              "</style>\n",
              "<table border=\"1\" class=\"dataframe\">\n",
              "  <thead>\n",
              "    <tr style=\"text-align: right;\">\n",
              "      <th></th>\n",
              "      <th>event_id</th>\n",
              "      <th>device_id</th>\n",
              "      <th>timestamp</th>\n",
              "      <th>longitude</th>\n",
              "      <th>latitude</th>\n",
              "      <th>city</th>\n",
              "      <th>state</th>\n",
              "      <th>lat_long</th>\n",
              "    </tr>\n",
              "  </thead>\n",
              "  <tbody>\n",
              "  </tbody>\n",
              "</table>\n",
              "</div>"
            ],
            "text/plain": [
              "Empty DataFrame\n",
              "Columns: [event_id, device_id, timestamp, longitude, latitude, city, state, lat_long]\n",
              "Index: []"
            ]
          },
          "metadata": {
            "tags": []
          },
          "execution_count": 48
        }
      ]
    },
    {
      "cell_type": "code",
      "metadata": {
        "id": "C1cz5T88m74a",
        "colab": {
          "base_uri": "https://localhost:8080/",
          "height": 343
        },
        "outputId": "2dfc5a1b-85b9-4e5e-9249-45a0ad9cca9c"
      },
      "source": [
        "df_MH_events_data.head(10)"
      ],
      "execution_count": 49,
      "outputs": [
        {
          "output_type": "execute_result",
          "data": {
            "text/html": [
              "<div>\n",
              "<style scoped>\n",
              "    .dataframe tbody tr th:only-of-type {\n",
              "        vertical-align: middle;\n",
              "    }\n",
              "\n",
              "    .dataframe tbody tr th {\n",
              "        vertical-align: top;\n",
              "    }\n",
              "\n",
              "    .dataframe thead th {\n",
              "        text-align: right;\n",
              "    }\n",
              "</style>\n",
              "<table border=\"1\" class=\"dataframe\">\n",
              "  <thead>\n",
              "    <tr style=\"text-align: right;\">\n",
              "      <th></th>\n",
              "      <th>event_id</th>\n",
              "      <th>device_id</th>\n",
              "      <th>timestamp</th>\n",
              "      <th>longitude</th>\n",
              "      <th>latitude</th>\n",
              "      <th>city</th>\n",
              "      <th>state</th>\n",
              "      <th>lat_long</th>\n",
              "    </tr>\n",
              "  </thead>\n",
              "  <tbody>\n",
              "    <tr>\n",
              "      <th>9</th>\n",
              "      <td>720049</td>\n",
              "      <td>4928555839839669963</td>\n",
              "      <td>2016-05-06 19:00:52</td>\n",
              "      <td>72.844795</td>\n",
              "      <td>18.974929</td>\n",
              "      <td>Mumbai</td>\n",
              "      <td>Maharashtra</td>\n",
              "      <td>18.974929, 72.84479499999998</td>\n",
              "    </tr>\n",
              "    <tr>\n",
              "      <th>11</th>\n",
              "      <td>13998</td>\n",
              "      <td>3978025911571213813</td>\n",
              "      <td>2016-05-06 13:12:42</td>\n",
              "      <td>73.875196</td>\n",
              "      <td>18.615791</td>\n",
              "      <td>Pune</td>\n",
              "      <td>Maharashtra</td>\n",
              "      <td>18.615791, 73.875196</td>\n",
              "    </tr>\n",
              "    <tr>\n",
              "      <th>20</th>\n",
              "      <td>1378252</td>\n",
              "      <td>-4384473680693400537</td>\n",
              "      <td>2016-05-05 04:20:02</td>\n",
              "      <td>73.914179</td>\n",
              "      <td>18.619081</td>\n",
              "      <td>Pune</td>\n",
              "      <td>Maharashtra</td>\n",
              "      <td>18.619081, 73.914179</td>\n",
              "    </tr>\n",
              "    <tr>\n",
              "      <th>21</th>\n",
              "      <td>185325</td>\n",
              "      <td>-7369689650429994275</td>\n",
              "      <td>2016-05-02 20:07:07</td>\n",
              "      <td>72.874552</td>\n",
              "      <td>19.014537</td>\n",
              "      <td>Mumbai</td>\n",
              "      <td>Maharashtra</td>\n",
              "      <td>19.014537, 72.87455200000002</td>\n",
              "    </tr>\n",
              "    <tr>\n",
              "      <th>22</th>\n",
              "      <td>1861432</td>\n",
              "      <td>3965810796882254829</td>\n",
              "      <td>2016-05-02 20:49:13</td>\n",
              "      <td>73.938826</td>\n",
              "      <td>18.582846</td>\n",
              "      <td>Pune</td>\n",
              "      <td>Maharashtra</td>\n",
              "      <td>18.582846, 73.938826</td>\n",
              "    </tr>\n",
              "    <tr>\n",
              "      <th>25</th>\n",
              "      <td>2923724</td>\n",
              "      <td>5178607734587385157</td>\n",
              "      <td>2016-05-05 21:14:28</td>\n",
              "      <td>72.859311</td>\n",
              "      <td>18.990110</td>\n",
              "      <td>Mumbai</td>\n",
              "      <td>Maharashtra</td>\n",
              "      <td>18.99011, 72.85931099999998</td>\n",
              "    </tr>\n",
              "    <tr>\n",
              "      <th>33</th>\n",
              "      <td>1851307</td>\n",
              "      <td>4918127076064191573</td>\n",
              "      <td>2016-05-03 11:07:32</td>\n",
              "      <td>77.630324</td>\n",
              "      <td>19.990620</td>\n",
              "      <td>Pusad</td>\n",
              "      <td>Maharashtra</td>\n",
              "      <td>19.99062, 77.63032399999999</td>\n",
              "    </tr>\n",
              "    <tr>\n",
              "      <th>34</th>\n",
              "      <td>1695686</td>\n",
              "      <td>-1844275662696897739</td>\n",
              "      <td>2016-05-05 19:06:46</td>\n",
              "      <td>77.354427</td>\n",
              "      <td>21.255712</td>\n",
              "      <td>Anjangaon</td>\n",
              "      <td>Maharashtra</td>\n",
              "      <td>21.255712, 77.354427</td>\n",
              "    </tr>\n",
              "    <tr>\n",
              "      <th>41</th>\n",
              "      <td>1171529</td>\n",
              "      <td>3653642617746436443</td>\n",
              "      <td>2016-05-03 07:57:10</td>\n",
              "      <td>72.838406</td>\n",
              "      <td>19.014749</td>\n",
              "      <td>Mumbai</td>\n",
              "      <td>Maharashtra</td>\n",
              "      <td>19.014749, 72.83840599999998</td>\n",
              "    </tr>\n",
              "    <tr>\n",
              "      <th>42</th>\n",
              "      <td>2523586</td>\n",
              "      <td>-7818282052440525320</td>\n",
              "      <td>2016-05-05 15:33:49</td>\n",
              "      <td>73.929706</td>\n",
              "      <td>18.623336</td>\n",
              "      <td>Pune</td>\n",
              "      <td>Maharashtra</td>\n",
              "      <td>18.623336, 73.92970600000002</td>\n",
              "    </tr>\n",
              "  </tbody>\n",
              "</table>\n",
              "</div>"
            ],
            "text/plain": [
              "    event_id             device_id  ...        state                      lat_long\n",
              "9     720049   4928555839839669963  ...  Maharashtra  18.974929, 72.84479499999998\n",
              "11     13998   3978025911571213813  ...  Maharashtra          18.615791, 73.875196\n",
              "20   1378252  -4384473680693400537  ...  Maharashtra          18.619081, 73.914179\n",
              "21    185325  -7369689650429994275  ...  Maharashtra  19.014537, 72.87455200000002\n",
              "22   1861432   3965810796882254829  ...  Maharashtra          18.582846, 73.938826\n",
              "25   2923724   5178607734587385157  ...  Maharashtra   18.99011, 72.85931099999998\n",
              "33   1851307   4918127076064191573  ...  Maharashtra   19.99062, 77.63032399999999\n",
              "34   1695686  -1844275662696897739  ...  Maharashtra          21.255712, 77.354427\n",
              "41   1171529   3653642617746436443  ...  Maharashtra  19.014749, 72.83840599999998\n",
              "42   2523586  -7818282052440525320  ...  Maharashtra  18.623336, 73.92970600000002\n",
              "\n",
              "[10 rows x 8 columns]"
            ]
          },
          "metadata": {
            "tags": []
          },
          "execution_count": 49
        }
      ]
    },
    {
      "cell_type": "code",
      "metadata": {
        "id": "eege7R_Im74b",
        "colab": {
          "base_uri": "https://localhost:8080/",
          "height": 343
        },
        "outputId": "06797633-802b-40ce-fd56-5f2132fe9f13"
      },
      "source": [
        "df_MH_events_data.tail(10)"
      ],
      "execution_count": 50,
      "outputs": [
        {
          "output_type": "execute_result",
          "data": {
            "text/html": [
              "<div>\n",
              "<style scoped>\n",
              "    .dataframe tbody tr th:only-of-type {\n",
              "        vertical-align: middle;\n",
              "    }\n",
              "\n",
              "    .dataframe tbody tr th {\n",
              "        vertical-align: top;\n",
              "    }\n",
              "\n",
              "    .dataframe thead th {\n",
              "        text-align: right;\n",
              "    }\n",
              "</style>\n",
              "<table border=\"1\" class=\"dataframe\">\n",
              "  <thead>\n",
              "    <tr style=\"text-align: right;\">\n",
              "      <th></th>\n",
              "      <th>event_id</th>\n",
              "      <th>device_id</th>\n",
              "      <th>timestamp</th>\n",
              "      <th>longitude</th>\n",
              "      <th>latitude</th>\n",
              "      <th>city</th>\n",
              "      <th>state</th>\n",
              "      <th>lat_long</th>\n",
              "    </tr>\n",
              "  </thead>\n",
              "  <tbody>\n",
              "    <tr>\n",
              "      <th>3252894</th>\n",
              "      <td>3054455</td>\n",
              "      <td>-7230956641802738875</td>\n",
              "      <td>2016-05-05 06:43:11</td>\n",
              "      <td>73.925000</td>\n",
              "      <td>18.586615</td>\n",
              "      <td>Pune</td>\n",
              "      <td>Maharashtra</td>\n",
              "      <td>18.586615, 73.925</td>\n",
              "    </tr>\n",
              "    <tr>\n",
              "      <th>3252897</th>\n",
              "      <td>2568717</td>\n",
              "      <td>8743727650643668659</td>\n",
              "      <td>2016-05-06 23:13:26</td>\n",
              "      <td>72.832084</td>\n",
              "      <td>19.054932</td>\n",
              "      <td>Mumbai</td>\n",
              "      <td>Maharashtra</td>\n",
              "      <td>19.054932, 72.832084</td>\n",
              "    </tr>\n",
              "    <tr>\n",
              "      <th>3252900</th>\n",
              "      <td>2870842</td>\n",
              "      <td>2715721459350076194</td>\n",
              "      <td>2016-05-01 06:29:10</td>\n",
              "      <td>72.844878</td>\n",
              "      <td>19.043853</td>\n",
              "      <td>Mumbai</td>\n",
              "      <td>Maharashtra</td>\n",
              "      <td>19.043853, 72.84487800000002</td>\n",
              "    </tr>\n",
              "    <tr>\n",
              "      <th>3252927</th>\n",
              "      <td>1262166</td>\n",
              "      <td>-1768479969085042127</td>\n",
              "      <td>2016-05-07 19:02:06</td>\n",
              "      <td>72.985984</td>\n",
              "      <td>19.284991</td>\n",
              "      <td>Thana</td>\n",
              "      <td>Maharashtra</td>\n",
              "      <td>19.284991, 72.985984</td>\n",
              "    </tr>\n",
              "    <tr>\n",
              "      <th>3252928</th>\n",
              "      <td>1514111</td>\n",
              "      <td>-1399631555680725969</td>\n",
              "      <td>2016-05-05 16:01:39</td>\n",
              "      <td>72.861041</td>\n",
              "      <td>19.033017</td>\n",
              "      <td>Mumbai</td>\n",
              "      <td>Maharashtra</td>\n",
              "      <td>19.033017, 72.861041</td>\n",
              "    </tr>\n",
              "    <tr>\n",
              "      <th>3252938</th>\n",
              "      <td>73002</td>\n",
              "      <td>-5758559653892125230</td>\n",
              "      <td>2016-05-03 06:30:02</td>\n",
              "      <td>73.858068</td>\n",
              "      <td>18.574054</td>\n",
              "      <td>Pune</td>\n",
              "      <td>Maharashtra</td>\n",
              "      <td>18.574054, 73.858068</td>\n",
              "    </tr>\n",
              "    <tr>\n",
              "      <th>3252941</th>\n",
              "      <td>3046303</td>\n",
              "      <td>5212597454400226406</td>\n",
              "      <td>2016-05-04 07:50:48</td>\n",
              "      <td>73.897710</td>\n",
              "      <td>18.565680</td>\n",
              "      <td>Pune</td>\n",
              "      <td>Maharashtra</td>\n",
              "      <td>18.56568, 73.89771</td>\n",
              "    </tr>\n",
              "    <tr>\n",
              "      <th>3252942</th>\n",
              "      <td>3244031</td>\n",
              "      <td>2320542621284956663</td>\n",
              "      <td>2016-05-07 18:36:01</td>\n",
              "      <td>73.886764</td>\n",
              "      <td>18.585058</td>\n",
              "      <td>Pune</td>\n",
              "      <td>Maharashtra</td>\n",
              "      <td>18.585058, 73.886764</td>\n",
              "    </tr>\n",
              "    <tr>\n",
              "      <th>3252945</th>\n",
              "      <td>2687452</td>\n",
              "      <td>-1937027962234299179</td>\n",
              "      <td>2016-05-07 23:33:14</td>\n",
              "      <td>73.891597</td>\n",
              "      <td>18.544124</td>\n",
              "      <td>Pune</td>\n",
              "      <td>Maharashtra</td>\n",
              "      <td>18.544124, 73.89159699999998</td>\n",
              "    </tr>\n",
              "    <tr>\n",
              "      <th>3252946</th>\n",
              "      <td>1051580</td>\n",
              "      <td>3345850694879477383</td>\n",
              "      <td>2016-05-03 05:13:30</td>\n",
              "      <td>72.837258</td>\n",
              "      <td>19.018432</td>\n",
              "      <td>Mumbai</td>\n",
              "      <td>Maharashtra</td>\n",
              "      <td>19.018432, 72.83725799999998</td>\n",
              "    </tr>\n",
              "  </tbody>\n",
              "</table>\n",
              "</div>"
            ],
            "text/plain": [
              "         event_id  ...                      lat_long\n",
              "3252894   3054455  ...             18.586615, 73.925\n",
              "3252897   2568717  ...          19.054932, 72.832084\n",
              "3252900   2870842  ...  19.043853, 72.84487800000002\n",
              "3252927   1262166  ...          19.284991, 72.985984\n",
              "3252928   1514111  ...          19.033017, 72.861041\n",
              "3252938     73002  ...          18.574054, 73.858068\n",
              "3252941   3046303  ...            18.56568, 73.89771\n",
              "3252942   3244031  ...          18.585058, 73.886764\n",
              "3252945   2687452  ...  18.544124, 73.89159699999998\n",
              "3252946   1051580  ...  19.018432, 72.83725799999998\n",
              "\n",
              "[10 rows x 8 columns]"
            ]
          },
          "metadata": {
            "tags": []
          },
          "execution_count": 50
        }
      ]
    },
    {
      "cell_type": "code",
      "metadata": {
        "id": "3lc5LbXZm74b",
        "colab": {
          "base_uri": "https://localhost:8080/",
          "height": 402
        },
        "outputId": "280d9f25-af45-4ade-90c5-0d0623f0c0a1"
      },
      "source": [
        "#Find Null latitude and longitude\n",
        "df_MH_events_data[(df_MH_events_data['latitude'].isnull()) | (df_MH_events_data['longitude'].isnull())]"
      ],
      "execution_count": 51,
      "outputs": [
        {
          "output_type": "execute_result",
          "data": {
            "text/html": [
              "<div>\n",
              "<style scoped>\n",
              "    .dataframe tbody tr th:only-of-type {\n",
              "        vertical-align: middle;\n",
              "    }\n",
              "\n",
              "    .dataframe tbody tr th {\n",
              "        vertical-align: top;\n",
              "    }\n",
              "\n",
              "    .dataframe thead th {\n",
              "        text-align: right;\n",
              "    }\n",
              "</style>\n",
              "<table border=\"1\" class=\"dataframe\">\n",
              "  <thead>\n",
              "    <tr style=\"text-align: right;\">\n",
              "      <th></th>\n",
              "      <th>event_id</th>\n",
              "      <th>device_id</th>\n",
              "      <th>timestamp</th>\n",
              "      <th>longitude</th>\n",
              "      <th>latitude</th>\n",
              "      <th>city</th>\n",
              "      <th>state</th>\n",
              "      <th>lat_long</th>\n",
              "    </tr>\n",
              "  </thead>\n",
              "  <tbody>\n",
              "    <tr>\n",
              "      <th>20586</th>\n",
              "      <td>3074782</td>\n",
              "      <td>-7364840628879980812</td>\n",
              "      <td>2016-05-04 19:39:28</td>\n",
              "      <td>NaN</td>\n",
              "      <td>NaN</td>\n",
              "      <td>Pune</td>\n",
              "      <td>Maharashtra</td>\n",
              "      <td>nan, nan</td>\n",
              "    </tr>\n",
              "    <tr>\n",
              "      <th>83130</th>\n",
              "      <td>1237362</td>\n",
              "      <td>-7364840628879980812</td>\n",
              "      <td>2016-05-06 01:01:21</td>\n",
              "      <td>NaN</td>\n",
              "      <td>NaN</td>\n",
              "      <td>Pune</td>\n",
              "      <td>Maharashtra</td>\n",
              "      <td>nan, nan</td>\n",
              "    </tr>\n",
              "    <tr>\n",
              "      <th>105679</th>\n",
              "      <td>2400756</td>\n",
              "      <td>-7364840628879980812</td>\n",
              "      <td>2016-05-06 14:41:37</td>\n",
              "      <td>NaN</td>\n",
              "      <td>NaN</td>\n",
              "      <td>Pune</td>\n",
              "      <td>Maharashtra</td>\n",
              "      <td>nan, nan</td>\n",
              "    </tr>\n",
              "    <tr>\n",
              "      <th>123196</th>\n",
              "      <td>2356803</td>\n",
              "      <td>-7364840628879980812</td>\n",
              "      <td>2016-05-05 22:09:45</td>\n",
              "      <td>NaN</td>\n",
              "      <td>NaN</td>\n",
              "      <td>Pune</td>\n",
              "      <td>Maharashtra</td>\n",
              "      <td>nan, nan</td>\n",
              "    </tr>\n",
              "    <tr>\n",
              "      <th>221786</th>\n",
              "      <td>367484</td>\n",
              "      <td>-7364840628879980812</td>\n",
              "      <td>2016-05-04 07:53:57</td>\n",
              "      <td>NaN</td>\n",
              "      <td>NaN</td>\n",
              "      <td>Pune</td>\n",
              "      <td>Maharashtra</td>\n",
              "      <td>nan, nan</td>\n",
              "    </tr>\n",
              "    <tr>\n",
              "      <th>...</th>\n",
              "      <td>...</td>\n",
              "      <td>...</td>\n",
              "      <td>...</td>\n",
              "      <td>...</td>\n",
              "      <td>...</td>\n",
              "      <td>...</td>\n",
              "      <td>...</td>\n",
              "      <td>...</td>\n",
              "    </tr>\n",
              "    <tr>\n",
              "      <th>2993294</th>\n",
              "      <td>2074411</td>\n",
              "      <td>7018600380123444976</td>\n",
              "      <td>2016-05-04 07:39:01</td>\n",
              "      <td>NaN</td>\n",
              "      <td>NaN</td>\n",
              "      <td>Pune</td>\n",
              "      <td>Maharashtra</td>\n",
              "      <td>nan, nan</td>\n",
              "    </tr>\n",
              "    <tr>\n",
              "      <th>2994050</th>\n",
              "      <td>1915577</td>\n",
              "      <td>7018600380123444976</td>\n",
              "      <td>2016-05-03 21:44:59</td>\n",
              "      <td>NaN</td>\n",
              "      <td>NaN</td>\n",
              "      <td>Pune</td>\n",
              "      <td>Maharashtra</td>\n",
              "      <td>nan, nan</td>\n",
              "    </tr>\n",
              "    <tr>\n",
              "      <th>3151816</th>\n",
              "      <td>2943906</td>\n",
              "      <td>5115185276392512955</td>\n",
              "      <td>2016-05-03 13:41:38</td>\n",
              "      <td>NaN</td>\n",
              "      <td>NaN</td>\n",
              "      <td>Pune</td>\n",
              "      <td>Maharashtra</td>\n",
              "      <td>nan, nan</td>\n",
              "    </tr>\n",
              "    <tr>\n",
              "      <th>3219808</th>\n",
              "      <td>1335798</td>\n",
              "      <td>-7364840628879980812</td>\n",
              "      <td>2016-05-05 11:47:06</td>\n",
              "      <td>NaN</td>\n",
              "      <td>NaN</td>\n",
              "      <td>Pune</td>\n",
              "      <td>Maharashtra</td>\n",
              "      <td>nan, nan</td>\n",
              "    </tr>\n",
              "    <tr>\n",
              "      <th>3240304</th>\n",
              "      <td>2387314</td>\n",
              "      <td>-7364840628879980812</td>\n",
              "      <td>2016-05-05 06:20:46</td>\n",
              "      <td>NaN</td>\n",
              "      <td>NaN</td>\n",
              "      <td>Pune</td>\n",
              "      <td>Maharashtra</td>\n",
              "      <td>nan, nan</td>\n",
              "    </tr>\n",
              "  </tbody>\n",
              "</table>\n",
              "<p>63 rows × 8 columns</p>\n",
              "</div>"
            ],
            "text/plain": [
              "         event_id             device_id  ...        state  lat_long\n",
              "20586     3074782  -7364840628879980812  ...  Maharashtra  nan, nan\n",
              "83130     1237362  -7364840628879980812  ...  Maharashtra  nan, nan\n",
              "105679    2400756  -7364840628879980812  ...  Maharashtra  nan, nan\n",
              "123196    2356803  -7364840628879980812  ...  Maharashtra  nan, nan\n",
              "221786     367484  -7364840628879980812  ...  Maharashtra  nan, nan\n",
              "...           ...                   ...  ...          ...       ...\n",
              "2993294   2074411   7018600380123444976  ...  Maharashtra  nan, nan\n",
              "2994050   1915577   7018600380123444976  ...  Maharashtra  nan, nan\n",
              "3151816   2943906   5115185276392512955  ...  Maharashtra  nan, nan\n",
              "3219808   1335798  -7364840628879980812  ...  Maharashtra  nan, nan\n",
              "3240304   2387314  -7364840628879980812  ...  Maharashtra  nan, nan\n",
              "\n",
              "[63 rows x 8 columns]"
            ]
          },
          "metadata": {
            "tags": []
          },
          "execution_count": 51
        }
      ]
    },
    {
      "cell_type": "code",
      "metadata": {
        "id": "GrWxb1vbm74b",
        "colab": {
          "base_uri": "https://localhost:8080/"
        },
        "outputId": "dab7ed4f-f12a-4c07-d8c3-864882ee87ca"
      },
      "source": [
        "#Find Nan longitude and latitude\n",
        "device_ids = list(df_MH_events_data[(df_MH_events_data['latitude'].isnull()) | (df_MH_events_data['longitude'].isnull())]['device_id'].unique())\n",
        "device_ids"
      ],
      "execution_count": 52,
      "outputs": [
        {
          "output_type": "execute_result",
          "data": {
            "text/plain": [
              "['-7364840628879980812', '7018600380123444976', '5115185276392512955']"
            ]
          },
          "metadata": {
            "tags": []
          },
          "execution_count": 52
        }
      ]
    },
    {
      "cell_type": "code",
      "metadata": {
        "id": "5a9kk3C7m74c",
        "colab": {
          "base_uri": "https://localhost:8080/",
          "height": 106
        },
        "outputId": "181a6207-f57a-41bb-a5df-eacb2f3721d4"
      },
      "source": [
        "#Check any of these values\n",
        "df_MH_events_data[df_MH_events_data['device_id'] == '-7364840628879980812'][['device_id','latitude','longitude']].drop_duplicates()"
      ],
      "execution_count": 53,
      "outputs": [
        {
          "output_type": "execute_result",
          "data": {
            "text/html": [
              "<div>\n",
              "<style scoped>\n",
              "    .dataframe tbody tr th:only-of-type {\n",
              "        vertical-align: middle;\n",
              "    }\n",
              "\n",
              "    .dataframe tbody tr th {\n",
              "        vertical-align: top;\n",
              "    }\n",
              "\n",
              "    .dataframe thead th {\n",
              "        text-align: right;\n",
              "    }\n",
              "</style>\n",
              "<table border=\"1\" class=\"dataframe\">\n",
              "  <thead>\n",
              "    <tr style=\"text-align: right;\">\n",
              "      <th></th>\n",
              "      <th>device_id</th>\n",
              "      <th>latitude</th>\n",
              "      <th>longitude</th>\n",
              "    </tr>\n",
              "  </thead>\n",
              "  <tbody>\n",
              "    <tr>\n",
              "      <th>1678</th>\n",
              "      <td>-7364840628879980812</td>\n",
              "      <td>18.54074</td>\n",
              "      <td>73.931944</td>\n",
              "    </tr>\n",
              "    <tr>\n",
              "      <th>20586</th>\n",
              "      <td>-7364840628879980812</td>\n",
              "      <td>NaN</td>\n",
              "      <td>NaN</td>\n",
              "    </tr>\n",
              "  </tbody>\n",
              "</table>\n",
              "</div>"
            ],
            "text/plain": [
              "                  device_id  latitude  longitude\n",
              "1678   -7364840628879980812  18.54074  73.931944\n",
              "20586  -7364840628879980812       NaN        NaN"
            ]
          },
          "metadata": {
            "tags": []
          },
          "execution_count": 53
        }
      ]
    },
    {
      "cell_type": "code",
      "metadata": {
        "id": "--B0D-tgm74c"
      },
      "source": [
        "#Update the data with the mode value of latitude and longitude\n",
        "for deviceId in device_ids:\n",
        "    lat_mode = float(df_MH_events_data[df_MH_events_data['device_id'] == deviceId]['latitude'].mode())\n",
        "    long_mode = float(df_MH_events_data[df_MH_events_data['device_id'] == deviceId]['longitude'].mode())\n",
        "    df_MH_events_data.loc[df_MH_events_data['device_id'] == deviceId, 'latitude'] = lat_mode\n",
        "    df_MH_events_data.loc[df_MH_events_data['device_id'] == deviceId, 'longitude'] = long_mode"
      ],
      "execution_count": 54,
      "outputs": []
    },
    {
      "cell_type": "code",
      "metadata": {
        "id": "lyzTNde2m74d",
        "colab": {
          "base_uri": "https://localhost:8080/",
          "height": 77
        },
        "outputId": "0ab979e4-7ea2-4259-9081-cab8f2788d93"
      },
      "source": [
        "#Verify data after changes are implemented\n",
        "df_MH_events_data[df_MH_events_data['device_id'] == '-7364840628879980812'][['device_id','latitude','longitude']].drop_duplicates()"
      ],
      "execution_count": 55,
      "outputs": [
        {
          "output_type": "execute_result",
          "data": {
            "text/html": [
              "<div>\n",
              "<style scoped>\n",
              "    .dataframe tbody tr th:only-of-type {\n",
              "        vertical-align: middle;\n",
              "    }\n",
              "\n",
              "    .dataframe tbody tr th {\n",
              "        vertical-align: top;\n",
              "    }\n",
              "\n",
              "    .dataframe thead th {\n",
              "        text-align: right;\n",
              "    }\n",
              "</style>\n",
              "<table border=\"1\" class=\"dataframe\">\n",
              "  <thead>\n",
              "    <tr style=\"text-align: right;\">\n",
              "      <th></th>\n",
              "      <th>device_id</th>\n",
              "      <th>latitude</th>\n",
              "      <th>longitude</th>\n",
              "    </tr>\n",
              "  </thead>\n",
              "  <tbody>\n",
              "    <tr>\n",
              "      <th>1678</th>\n",
              "      <td>-7364840628879980812</td>\n",
              "      <td>18.54074</td>\n",
              "      <td>73.931944</td>\n",
              "    </tr>\n",
              "  </tbody>\n",
              "</table>\n",
              "</div>"
            ],
            "text/plain": [
              "                 device_id  latitude  longitude\n",
              "1678  -7364840628879980812  18.54074  73.931944"
            ]
          },
          "metadata": {
            "tags": []
          },
          "execution_count": 55
        }
      ]
    },
    {
      "cell_type": "code",
      "metadata": {
        "id": "DcghK-Jmm74d"
      },
      "source": [
        "#drop columns state and lat_long\n",
        "df_MH_events_data.drop(['state','lat_long'], axis = 1, inplace=True)"
      ],
      "execution_count": 56,
      "outputs": []
    },
    {
      "cell_type": "code",
      "metadata": {
        "id": "IaPCqJmsm74e",
        "colab": {
          "base_uri": "https://localhost:8080/"
        },
        "outputId": "4c004ced-9250-4595-92f3-e82f1a4c9f7b"
      },
      "source": [
        "#Check information. No Null exists.\n",
        "df_MH_events_data.info()"
      ],
      "execution_count": 57,
      "outputs": [
        {
          "output_type": "stream",
          "text": [
            "<class 'pandas.core.frame.DataFrame'>\n",
            "Int64Index: 677168 entries, 9 to 3252946\n",
            "Data columns (total 6 columns):\n",
            " #   Column     Non-Null Count   Dtype         \n",
            "---  ------     --------------   -----         \n",
            " 0   event_id   677168 non-null  int64         \n",
            " 1   device_id  677168 non-null  object        \n",
            " 2   timestamp  677168 non-null  datetime64[ns]\n",
            " 3   longitude  677168 non-null  float64       \n",
            " 4   latitude   677168 non-null  float64       \n",
            " 5   city       677168 non-null  object        \n",
            "dtypes: datetime64[ns](1), float64(2), int64(1), object(2)\n",
            "memory usage: 36.2+ MB\n"
          ],
          "name": "stdout"
        }
      ]
    },
    {
      "cell_type": "code",
      "metadata": {
        "id": "tpwxLbHtm74e",
        "colab": {
          "base_uri": "https://localhost:8080/"
        },
        "outputId": "7f69c28f-32ac-4f61-9a7d-663ad188b1ef"
      },
      "source": [
        "# find and remove duplicate\n",
        "print(\"No. of records in dataset are : \", len(df_MH_events_data))\n",
        "print(\"No. of duplicate records\",len(df_MH_events_data[df_MH_events_data.duplicated()]))\n"
      ],
      "execution_count": 58,
      "outputs": [
        {
          "output_type": "stream",
          "text": [
            "No. of records in dataset are :  677168\n",
            "No. of duplicate records 0\n"
          ],
          "name": "stdout"
        }
      ]
    },
    {
      "cell_type": "code",
      "metadata": {
        "id": "fJ7OgNkEm74f",
        "colab": {
          "base_uri": "https://localhost:8080/"
        },
        "outputId": "01a945a8-7567-4693-f381-ebfe11e86827"
      },
      "source": [
        "df_events_gender_phone_merge = pd.merge(df_MH_events_data ,df_gender_phone_brand_merge, how=\"left\", on=\"device_id\")\n",
        "df_events_gender_phone_merge.info()"
      ],
      "execution_count": 59,
      "outputs": [
        {
          "output_type": "stream",
          "text": [
            "<class 'pandas.core.frame.DataFrame'>\n",
            "Int64Index: 677168 entries, 0 to 677167\n",
            "Data columns (total 11 columns):\n",
            " #   Column        Non-Null Count   Dtype         \n",
            "---  ------        --------------   -----         \n",
            " 0   event_id      677168 non-null  int64         \n",
            " 1   device_id     677168 non-null  object        \n",
            " 2   timestamp     677168 non-null  datetime64[ns]\n",
            " 3   longitude     677168 non-null  float64       \n",
            " 4   latitude      677168 non-null  float64       \n",
            " 5   city          677168 non-null  object        \n",
            " 6   phone_brand   677168 non-null  object        \n",
            " 7   device_model  677168 non-null  object        \n",
            " 8   gender        677168 non-null  object        \n",
            " 9   age           677168 non-null  float64       \n",
            " 10  group         677168 non-null  object        \n",
            "dtypes: datetime64[ns](1), float64(3), int64(1), object(6)\n",
            "memory usage: 62.0+ MB\n"
          ],
          "name": "stdout"
        }
      ]
    },
    {
      "cell_type": "code",
      "metadata": {
        "id": "6hSabf6am74f",
        "colab": {
          "base_uri": "https://localhost:8080/",
          "height": 195
        },
        "outputId": "e63a0b44-0425-4e03-934b-93357c01cd1a"
      },
      "source": [
        "df_events_gender_phone_merge.head()"
      ],
      "execution_count": 60,
      "outputs": [
        {
          "output_type": "execute_result",
          "data": {
            "text/html": [
              "<div>\n",
              "<style scoped>\n",
              "    .dataframe tbody tr th:only-of-type {\n",
              "        vertical-align: middle;\n",
              "    }\n",
              "\n",
              "    .dataframe tbody tr th {\n",
              "        vertical-align: top;\n",
              "    }\n",
              "\n",
              "    .dataframe thead th {\n",
              "        text-align: right;\n",
              "    }\n",
              "</style>\n",
              "<table border=\"1\" class=\"dataframe\">\n",
              "  <thead>\n",
              "    <tr style=\"text-align: right;\">\n",
              "      <th></th>\n",
              "      <th>event_id</th>\n",
              "      <th>device_id</th>\n",
              "      <th>timestamp</th>\n",
              "      <th>longitude</th>\n",
              "      <th>latitude</th>\n",
              "      <th>city</th>\n",
              "      <th>phone_brand</th>\n",
              "      <th>device_model</th>\n",
              "      <th>gender</th>\n",
              "      <th>age</th>\n",
              "      <th>group</th>\n",
              "    </tr>\n",
              "  </thead>\n",
              "  <tbody>\n",
              "    <tr>\n",
              "      <th>0</th>\n",
              "      <td>720049</td>\n",
              "      <td>4928555839839669963</td>\n",
              "      <td>2016-05-06 19:00:52</td>\n",
              "      <td>72.844795</td>\n",
              "      <td>18.974929</td>\n",
              "      <td>Mumbai</td>\n",
              "      <td>vivo</td>\n",
              "      <td>X5L</td>\n",
              "      <td>M</td>\n",
              "      <td>33.0</td>\n",
              "      <td>M32-38</td>\n",
              "    </tr>\n",
              "    <tr>\n",
              "      <th>1</th>\n",
              "      <td>13998</td>\n",
              "      <td>3978025911571213813</td>\n",
              "      <td>2016-05-06 13:12:42</td>\n",
              "      <td>73.875196</td>\n",
              "      <td>18.615791</td>\n",
              "      <td>Pune</td>\n",
              "      <td>Samsung</td>\n",
              "      <td>Galaxy S3</td>\n",
              "      <td>M</td>\n",
              "      <td>19.0</td>\n",
              "      <td>M22-</td>\n",
              "    </tr>\n",
              "    <tr>\n",
              "      <th>2</th>\n",
              "      <td>1378252</td>\n",
              "      <td>-4384473680693400537</td>\n",
              "      <td>2016-05-05 04:20:02</td>\n",
              "      <td>73.914179</td>\n",
              "      <td>18.619081</td>\n",
              "      <td>Pune</td>\n",
              "      <td>Huawei</td>\n",
              "      <td>Glory 3C</td>\n",
              "      <td>M</td>\n",
              "      <td>25.0</td>\n",
              "      <td>M23-26</td>\n",
              "    </tr>\n",
              "    <tr>\n",
              "      <th>3</th>\n",
              "      <td>185325</td>\n",
              "      <td>-7369689650429994275</td>\n",
              "      <td>2016-05-02 20:07:07</td>\n",
              "      <td>72.874552</td>\n",
              "      <td>19.014537</td>\n",
              "      <td>Mumbai</td>\n",
              "      <td>Huawei</td>\n",
              "      <td>Glory play 4C</td>\n",
              "      <td>M</td>\n",
              "      <td>23.0</td>\n",
              "      <td>M23-26</td>\n",
              "    </tr>\n",
              "    <tr>\n",
              "      <th>4</th>\n",
              "      <td>1861432</td>\n",
              "      <td>3965810796882254829</td>\n",
              "      <td>2016-05-02 20:49:13</td>\n",
              "      <td>73.938826</td>\n",
              "      <td>18.582846</td>\n",
              "      <td>Pune</td>\n",
              "      <td>vivo</td>\n",
              "      <td>Y18L</td>\n",
              "      <td>F</td>\n",
              "      <td>19.0</td>\n",
              "      <td>F23-</td>\n",
              "    </tr>\n",
              "  </tbody>\n",
              "</table>\n",
              "</div>"
            ],
            "text/plain": [
              "   event_id             device_id           timestamp  ...  gender   age   group\n",
              "0    720049   4928555839839669963 2016-05-06 19:00:52  ...       M  33.0  M32-38\n",
              "1     13998   3978025911571213813 2016-05-06 13:12:42  ...       M  19.0    M22-\n",
              "2   1378252  -4384473680693400537 2016-05-05 04:20:02  ...       M  25.0  M23-26\n",
              "3    185325  -7369689650429994275 2016-05-02 20:07:07  ...       M  23.0  M23-26\n",
              "4   1861432   3965810796882254829 2016-05-02 20:49:13  ...       F  19.0    F23-\n",
              "\n",
              "[5 rows x 11 columns]"
            ]
          },
          "metadata": {
            "tags": []
          },
          "execution_count": 60
        }
      ]
    },
    {
      "cell_type": "code",
      "metadata": {
        "id": "DOKnlnS_m74f",
        "colab": {
          "base_uri": "https://localhost:8080/",
          "height": 195
        },
        "outputId": "39c363c7-f413-44cf-eb36-ec6c7f9148ce"
      },
      "source": [
        "df_events_gender_phone_merge.tail()"
      ],
      "execution_count": 61,
      "outputs": [
        {
          "output_type": "execute_result",
          "data": {
            "text/html": [
              "<div>\n",
              "<style scoped>\n",
              "    .dataframe tbody tr th:only-of-type {\n",
              "        vertical-align: middle;\n",
              "    }\n",
              "\n",
              "    .dataframe tbody tr th {\n",
              "        vertical-align: top;\n",
              "    }\n",
              "\n",
              "    .dataframe thead th {\n",
              "        text-align: right;\n",
              "    }\n",
              "</style>\n",
              "<table border=\"1\" class=\"dataframe\">\n",
              "  <thead>\n",
              "    <tr style=\"text-align: right;\">\n",
              "      <th></th>\n",
              "      <th>event_id</th>\n",
              "      <th>device_id</th>\n",
              "      <th>timestamp</th>\n",
              "      <th>longitude</th>\n",
              "      <th>latitude</th>\n",
              "      <th>city</th>\n",
              "      <th>phone_brand</th>\n",
              "      <th>device_model</th>\n",
              "      <th>gender</th>\n",
              "      <th>age</th>\n",
              "      <th>group</th>\n",
              "    </tr>\n",
              "  </thead>\n",
              "  <tbody>\n",
              "    <tr>\n",
              "      <th>677163</th>\n",
              "      <td>73002</td>\n",
              "      <td>-5758559653892125230</td>\n",
              "      <td>2016-05-03 06:30:02</td>\n",
              "      <td>73.858068</td>\n",
              "      <td>18.574054</td>\n",
              "      <td>Pune</td>\n",
              "      <td>Plus</td>\n",
              "      <td>One</td>\n",
              "      <td>M</td>\n",
              "      <td>27.0</td>\n",
              "      <td>M27-28</td>\n",
              "    </tr>\n",
              "    <tr>\n",
              "      <th>677164</th>\n",
              "      <td>3046303</td>\n",
              "      <td>5212597454400226406</td>\n",
              "      <td>2016-05-04 07:50:48</td>\n",
              "      <td>73.897710</td>\n",
              "      <td>18.565680</td>\n",
              "      <td>Pune</td>\n",
              "      <td>Millet</td>\n",
              "      <td>MI 2S</td>\n",
              "      <td>F</td>\n",
              "      <td>44.0</td>\n",
              "      <td>F43+</td>\n",
              "    </tr>\n",
              "    <tr>\n",
              "      <th>677165</th>\n",
              "      <td>3244031</td>\n",
              "      <td>2320542621284956663</td>\n",
              "      <td>2016-05-07 18:36:01</td>\n",
              "      <td>73.886764</td>\n",
              "      <td>18.585058</td>\n",
              "      <td>Pune</td>\n",
              "      <td>Millet</td>\n",
              "      <td>MI 3</td>\n",
              "      <td>M</td>\n",
              "      <td>24.0</td>\n",
              "      <td>M23-26</td>\n",
              "    </tr>\n",
              "    <tr>\n",
              "      <th>677166</th>\n",
              "      <td>2687452</td>\n",
              "      <td>-1937027962234299179</td>\n",
              "      <td>2016-05-07 23:33:14</td>\n",
              "      <td>73.891597</td>\n",
              "      <td>18.544124</td>\n",
              "      <td>Pune</td>\n",
              "      <td>Millet</td>\n",
              "      <td>Red rice 1s</td>\n",
              "      <td>F</td>\n",
              "      <td>38.0</td>\n",
              "      <td>F33-42</td>\n",
              "    </tr>\n",
              "    <tr>\n",
              "      <th>677167</th>\n",
              "      <td>1051580</td>\n",
              "      <td>3345850694879477383</td>\n",
              "      <td>2016-05-03 05:13:30</td>\n",
              "      <td>72.837258</td>\n",
              "      <td>19.018432</td>\n",
              "      <td>Mumbai</td>\n",
              "      <td>Plus</td>\n",
              "      <td>One</td>\n",
              "      <td>M</td>\n",
              "      <td>22.0</td>\n",
              "      <td>M22-</td>\n",
              "    </tr>\n",
              "  </tbody>\n",
              "</table>\n",
              "</div>"
            ],
            "text/plain": [
              "        event_id             device_id           timestamp  ...  gender   age   group\n",
              "677163     73002  -5758559653892125230 2016-05-03 06:30:02  ...       M  27.0  M27-28\n",
              "677164   3046303   5212597454400226406 2016-05-04 07:50:48  ...       F  44.0    F43+\n",
              "677165   3244031   2320542621284956663 2016-05-07 18:36:01  ...       M  24.0  M23-26\n",
              "677166   2687452  -1937027962234299179 2016-05-07 23:33:14  ...       F  38.0  F33-42\n",
              "677167   1051580   3345850694879477383 2016-05-03 05:13:30  ...       M  22.0    M22-\n",
              "\n",
              "[5 rows x 11 columns]"
            ]
          },
          "metadata": {
            "tags": []
          },
          "execution_count": 61
        }
      ]
    },
    {
      "cell_type": "code",
      "metadata": {
        "id": "K0YGHhzlm74g"
      },
      "source": [
        "#sort data on event id\n",
        "df_events_gender_phone_merge.sort_values(by=['event_id'], inplace=True)"
      ],
      "execution_count": 62,
      "outputs": []
    },
    {
      "cell_type": "code",
      "metadata": {
        "id": "Sz7NVeTPm74g"
      },
      "source": [
        "df_events_gender_phone_merge.to_csv(\"InsaidTelecomDataset.csv\")"
      ],
      "execution_count": 63,
      "outputs": []
    },
    {
      "cell_type": "code",
      "metadata": {
        "id": "OXfKhuhFm74h"
      },
      "source": [
        "#clear all dataframe to release memory\n",
        "\"\"\"\n",
        "del df_gender_age\n",
        "del df_phone_brand\n",
        "del df_gender_phone_brand_merge\n",
        "del df_events\n",
        "del df_MH_events_data\n",
        "del df_citystate\n",
        "del df_MH_events_data_1\n",
        "del df_ll\n",
        "del df_events_gender_phone_merge\n",
        "\"\"\"\n"
      ],
      "execution_count": null,
      "outputs": []
    },
    {
      "cell_type": "code",
      "metadata": {
        "id": "lfjljuTFm74h",
        "colab": {
          "base_uri": "https://localhost:8080/"
        },
        "outputId": "f1c49ec3-43ee-4e96-eb59-5a3b67eaccf9"
      },
      "source": [
        "#Read the csv file in df_Telecom \n",
        "cols = list(pd.read_csv(\"InsaidTelecomDataset.csv\", nrows =1))\n",
        "df_Telecom = pd.read_csv('InsaidTelecomDataset.csv',parse_dates=['timestamp'],usecols =[i for i in cols if i != 'Unnamed: 0'],dtype={\"device_id\":str,\"city\":str})\n",
        "df_Telecom.info()\n"
      ],
      "execution_count": 64,
      "outputs": [
        {
          "output_type": "stream",
          "text": [
            "<class 'pandas.core.frame.DataFrame'>\n",
            "RangeIndex: 677168 entries, 0 to 677167\n",
            "Data columns (total 11 columns):\n",
            " #   Column        Non-Null Count   Dtype         \n",
            "---  ------        --------------   -----         \n",
            " 0   event_id      677168 non-null  int64         \n",
            " 1   device_id     677168 non-null  object        \n",
            " 2   timestamp     677168 non-null  datetime64[ns]\n",
            " 3   longitude     677168 non-null  float64       \n",
            " 4   latitude      677168 non-null  float64       \n",
            " 5   city          677168 non-null  object        \n",
            " 6   phone_brand   677168 non-null  object        \n",
            " 7   device_model  677168 non-null  object        \n",
            " 8   gender        677168 non-null  object        \n",
            " 9   age           677168 non-null  float64       \n",
            " 10  group         677168 non-null  object        \n",
            "dtypes: datetime64[ns](1), float64(3), int64(1), object(6)\n",
            "memory usage: 56.8+ MB\n"
          ],
          "name": "stdout"
        }
      ]
    },
    {
      "cell_type": "code",
      "metadata": {
        "id": "K2lqaMPzm74i",
        "colab": {
          "base_uri": "https://localhost:8080/",
          "height": 343
        },
        "outputId": "b2852f8b-b396-47cb-e480-301ed4bec046"
      },
      "source": [
        "df_Telecom.head(10)"
      ],
      "execution_count": 65,
      "outputs": [
        {
          "output_type": "execute_result",
          "data": {
            "text/html": [
              "<div>\n",
              "<style scoped>\n",
              "    .dataframe tbody tr th:only-of-type {\n",
              "        vertical-align: middle;\n",
              "    }\n",
              "\n",
              "    .dataframe tbody tr th {\n",
              "        vertical-align: top;\n",
              "    }\n",
              "\n",
              "    .dataframe thead th {\n",
              "        text-align: right;\n",
              "    }\n",
              "</style>\n",
              "<table border=\"1\" class=\"dataframe\">\n",
              "  <thead>\n",
              "    <tr style=\"text-align: right;\">\n",
              "      <th></th>\n",
              "      <th>event_id</th>\n",
              "      <th>device_id</th>\n",
              "      <th>timestamp</th>\n",
              "      <th>longitude</th>\n",
              "      <th>latitude</th>\n",
              "      <th>city</th>\n",
              "      <th>phone_brand</th>\n",
              "      <th>device_model</th>\n",
              "      <th>gender</th>\n",
              "      <th>age</th>\n",
              "      <th>group</th>\n",
              "    </tr>\n",
              "  </thead>\n",
              "  <tbody>\n",
              "    <tr>\n",
              "      <th>0</th>\n",
              "      <td>2246</td>\n",
              "      <td>4048381153450636558</td>\n",
              "      <td>2016-05-03 03:13:37</td>\n",
              "      <td>73.859134</td>\n",
              "      <td>18.575338</td>\n",
              "      <td>Pune</td>\n",
              "      <td>vivo</td>\n",
              "      <td>Y23L</td>\n",
              "      <td>F</td>\n",
              "      <td>43.0</td>\n",
              "      <td>F43+</td>\n",
              "    </tr>\n",
              "    <tr>\n",
              "      <th>1</th>\n",
              "      <td>2252</td>\n",
              "      <td>-8133280833236395724</td>\n",
              "      <td>2016-05-03 03:09:52</td>\n",
              "      <td>73.888547</td>\n",
              "      <td>18.550411</td>\n",
              "      <td>Pune</td>\n",
              "      <td>vivo</td>\n",
              "      <td>X5SL</td>\n",
              "      <td>M</td>\n",
              "      <td>33.0</td>\n",
              "      <td>M32-38</td>\n",
              "    </tr>\n",
              "    <tr>\n",
              "      <th>2</th>\n",
              "      <td>2254</td>\n",
              "      <td>296476138614449616</td>\n",
              "      <td>2016-05-03 03:12:00</td>\n",
              "      <td>73.888967</td>\n",
              "      <td>18.594675</td>\n",
              "      <td>Pune</td>\n",
              "      <td>Huawei</td>\n",
              "      <td>Glory play 4</td>\n",
              "      <td>M</td>\n",
              "      <td>22.0</td>\n",
              "      <td>M22-</td>\n",
              "    </tr>\n",
              "    <tr>\n",
              "      <th>3</th>\n",
              "      <td>2256</td>\n",
              "      <td>760503316778223329</td>\n",
              "      <td>2016-05-03 03:55:01</td>\n",
              "      <td>73.892659</td>\n",
              "      <td>18.602857</td>\n",
              "      <td>Pune</td>\n",
              "      <td>Millet</td>\n",
              "      <td>Red rice Note</td>\n",
              "      <td>F</td>\n",
              "      <td>62.0</td>\n",
              "      <td>F43+</td>\n",
              "    </tr>\n",
              "    <tr>\n",
              "      <th>4</th>\n",
              "      <td>2258</td>\n",
              "      <td>-1490175732022808693</td>\n",
              "      <td>2016-05-03 03:55:00</td>\n",
              "      <td>73.863110</td>\n",
              "      <td>18.602342</td>\n",
              "      <td>Pune</td>\n",
              "      <td>Huawei</td>\n",
              "      <td>Glory 3C</td>\n",
              "      <td>F</td>\n",
              "      <td>21.0</td>\n",
              "      <td>F23-</td>\n",
              "    </tr>\n",
              "    <tr>\n",
              "      <th>5</th>\n",
              "      <td>2261</td>\n",
              "      <td>2445993792412785307</td>\n",
              "      <td>2016-05-03 03:27:51</td>\n",
              "      <td>73.883063</td>\n",
              "      <td>18.604494</td>\n",
              "      <td>Pune</td>\n",
              "      <td>Samsung</td>\n",
              "      <td>Galaxy Note 3</td>\n",
              "      <td>F</td>\n",
              "      <td>45.0</td>\n",
              "      <td>F43+</td>\n",
              "    </tr>\n",
              "    <tr>\n",
              "      <th>6</th>\n",
              "      <td>2262</td>\n",
              "      <td>6276992525243228140</td>\n",
              "      <td>2016-05-03 03:00:57</td>\n",
              "      <td>73.884201</td>\n",
              "      <td>18.564278</td>\n",
              "      <td>Pune</td>\n",
              "      <td>Samsung</td>\n",
              "      <td>S7898</td>\n",
              "      <td>F</td>\n",
              "      <td>33.0</td>\n",
              "      <td>F33-42</td>\n",
              "    </tr>\n",
              "    <tr>\n",
              "      <th>7</th>\n",
              "      <td>2264</td>\n",
              "      <td>6071856027694706824</td>\n",
              "      <td>2016-05-03 03:21:46</td>\n",
              "      <td>73.916330</td>\n",
              "      <td>18.602033</td>\n",
              "      <td>Pune</td>\n",
              "      <td>Huawei</td>\n",
              "      <td>C8818</td>\n",
              "      <td>M</td>\n",
              "      <td>41.0</td>\n",
              "      <td>M39+</td>\n",
              "    </tr>\n",
              "    <tr>\n",
              "      <th>8</th>\n",
              "      <td>2267</td>\n",
              "      <td>-387900944632885382</td>\n",
              "      <td>2016-05-03 03:09:59</td>\n",
              "      <td>73.856139</td>\n",
              "      <td>18.545157</td>\n",
              "      <td>Pune</td>\n",
              "      <td>Millet</td>\n",
              "      <td>Red rice 2a</td>\n",
              "      <td>M</td>\n",
              "      <td>28.0</td>\n",
              "      <td>M27-28</td>\n",
              "    </tr>\n",
              "    <tr>\n",
              "      <th>9</th>\n",
              "      <td>2269</td>\n",
              "      <td>2765275027075841647</td>\n",
              "      <td>2016-05-03 03:17:13</td>\n",
              "      <td>73.938735</td>\n",
              "      <td>18.612476</td>\n",
              "      <td>Pune</td>\n",
              "      <td>Huawei</td>\n",
              "      <td>Ascend G7</td>\n",
              "      <td>M</td>\n",
              "      <td>37.0</td>\n",
              "      <td>M32-38</td>\n",
              "    </tr>\n",
              "  </tbody>\n",
              "</table>\n",
              "</div>"
            ],
            "text/plain": [
              "   event_id             device_id           timestamp  ...  gender   age   group\n",
              "0      2246   4048381153450636558 2016-05-03 03:13:37  ...       F  43.0    F43+\n",
              "1      2252  -8133280833236395724 2016-05-03 03:09:52  ...       M  33.0  M32-38\n",
              "2      2254    296476138614449616 2016-05-03 03:12:00  ...       M  22.0    M22-\n",
              "3      2256    760503316778223329 2016-05-03 03:55:01  ...       F  62.0    F43+\n",
              "4      2258  -1490175732022808693 2016-05-03 03:55:00  ...       F  21.0    F23-\n",
              "5      2261   2445993792412785307 2016-05-03 03:27:51  ...       F  45.0    F43+\n",
              "6      2262   6276992525243228140 2016-05-03 03:00:57  ...       F  33.0  F33-42\n",
              "7      2264   6071856027694706824 2016-05-03 03:21:46  ...       M  41.0    M39+\n",
              "8      2267   -387900944632885382 2016-05-03 03:09:59  ...       M  28.0  M27-28\n",
              "9      2269   2765275027075841647 2016-05-03 03:17:13  ...       M  37.0  M32-38\n",
              "\n",
              "[10 rows x 11 columns]"
            ]
          },
          "metadata": {
            "tags": []
          },
          "execution_count": 65
        }
      ]
    },
    {
      "cell_type": "code",
      "metadata": {
        "id": "6OEmpmP8m74k",
        "colab": {
          "base_uri": "https://localhost:8080/",
          "height": 343
        },
        "outputId": "f4a622c3-2e45-4175-83e5-73eb7d30fc82"
      },
      "source": [
        "df_Telecom.tail(10)"
      ],
      "execution_count": 66,
      "outputs": [
        {
          "output_type": "execute_result",
          "data": {
            "text/html": [
              "<div>\n",
              "<style scoped>\n",
              "    .dataframe tbody tr th:only-of-type {\n",
              "        vertical-align: middle;\n",
              "    }\n",
              "\n",
              "    .dataframe tbody tr th {\n",
              "        vertical-align: top;\n",
              "    }\n",
              "\n",
              "    .dataframe thead th {\n",
              "        text-align: right;\n",
              "    }\n",
              "</style>\n",
              "<table border=\"1\" class=\"dataframe\">\n",
              "  <thead>\n",
              "    <tr style=\"text-align: right;\">\n",
              "      <th></th>\n",
              "      <th>event_id</th>\n",
              "      <th>device_id</th>\n",
              "      <th>timestamp</th>\n",
              "      <th>longitude</th>\n",
              "      <th>latitude</th>\n",
              "      <th>city</th>\n",
              "      <th>phone_brand</th>\n",
              "      <th>device_model</th>\n",
              "      <th>gender</th>\n",
              "      <th>age</th>\n",
              "      <th>group</th>\n",
              "    </tr>\n",
              "  </thead>\n",
              "  <tbody>\n",
              "    <tr>\n",
              "      <th>677158</th>\n",
              "      <td>3252891</td>\n",
              "      <td>1834389478016206260</td>\n",
              "      <td>2016-05-07 22:56:53</td>\n",
              "      <td>72.836308</td>\n",
              "      <td>19.044194</td>\n",
              "      <td>Mumbai</td>\n",
              "      <td>Millet</td>\n",
              "      <td>MI 4</td>\n",
              "      <td>F</td>\n",
              "      <td>22.0</td>\n",
              "      <td>F23-</td>\n",
              "    </tr>\n",
              "    <tr>\n",
              "      <th>677159</th>\n",
              "      <td>3252897</td>\n",
              "      <td>-4153913356815067763</td>\n",
              "      <td>2016-05-07 23:09:23</td>\n",
              "      <td>73.893425</td>\n",
              "      <td>18.572641</td>\n",
              "      <td>Pune</td>\n",
              "      <td>vivo</td>\n",
              "      <td>Y11</td>\n",
              "      <td>M</td>\n",
              "      <td>46.0</td>\n",
              "      <td>M39+</td>\n",
              "    </tr>\n",
              "    <tr>\n",
              "      <th>677160</th>\n",
              "      <td>3252902</td>\n",
              "      <td>7565959697267570843</td>\n",
              "      <td>2016-05-07 23:06:27</td>\n",
              "      <td>72.866879</td>\n",
              "      <td>19.024424</td>\n",
              "      <td>Mumbai</td>\n",
              "      <td>Samsung</td>\n",
              "      <td>Galaxy A8</td>\n",
              "      <td>M</td>\n",
              "      <td>24.0</td>\n",
              "      <td>M23-26</td>\n",
              "    </tr>\n",
              "    <tr>\n",
              "      <th>677161</th>\n",
              "      <td>3252909</td>\n",
              "      <td>1592938327888672569</td>\n",
              "      <td>2016-05-07 23:35:27</td>\n",
              "      <td>73.889480</td>\n",
              "      <td>18.564418</td>\n",
              "      <td>Pune</td>\n",
              "      <td>Cool</td>\n",
              "      <td>8720L</td>\n",
              "      <td>F</td>\n",
              "      <td>24.0</td>\n",
              "      <td>F24-26</td>\n",
              "    </tr>\n",
              "    <tr>\n",
              "      <th>677162</th>\n",
              "      <td>3252918</td>\n",
              "      <td>4495750910128395273</td>\n",
              "      <td>2016-05-07 22:56:02</td>\n",
              "      <td>72.893693</td>\n",
              "      <td>19.002173</td>\n",
              "      <td>Mumbai</td>\n",
              "      <td>Charming</td>\n",
              "      <td>MX2</td>\n",
              "      <td>F</td>\n",
              "      <td>26.0</td>\n",
              "      <td>F24-26</td>\n",
              "    </tr>\n",
              "    <tr>\n",
              "      <th>677163</th>\n",
              "      <td>3252928</td>\n",
              "      <td>-7811917364935931539</td>\n",
              "      <td>2016-05-07 23:45:33</td>\n",
              "      <td>76.574225</td>\n",
              "      <td>20.734164</td>\n",
              "      <td>Khamgaon</td>\n",
              "      <td>Association</td>\n",
              "      <td>U795+</td>\n",
              "      <td>M</td>\n",
              "      <td>23.0</td>\n",
              "      <td>M23-26</td>\n",
              "    </tr>\n",
              "    <tr>\n",
              "      <th>677164</th>\n",
              "      <td>3252934</td>\n",
              "      <td>-8456572573025681677</td>\n",
              "      <td>2016-05-07 23:06:49</td>\n",
              "      <td>72.968435</td>\n",
              "      <td>19.361845</td>\n",
              "      <td>Navghar</td>\n",
              "      <td>Millet</td>\n",
              "      <td>Red rice Note2</td>\n",
              "      <td>F</td>\n",
              "      <td>27.0</td>\n",
              "      <td>F27-28</td>\n",
              "    </tr>\n",
              "    <tr>\n",
              "      <th>677165</th>\n",
              "      <td>3252935</td>\n",
              "      <td>3650938144459632894</td>\n",
              "      <td>2016-05-07 23:24:01</td>\n",
              "      <td>72.866115</td>\n",
              "      <td>19.023890</td>\n",
              "      <td>Mumbai</td>\n",
              "      <td>Huawei</td>\n",
              "      <td>Mate 7 Youth Edition</td>\n",
              "      <td>M</td>\n",
              "      <td>69.0</td>\n",
              "      <td>M39+</td>\n",
              "    </tr>\n",
              "    <tr>\n",
              "      <th>677166</th>\n",
              "      <td>3252945</td>\n",
              "      <td>-7468344787041842956</td>\n",
              "      <td>2016-05-07 23:56:08</td>\n",
              "      <td>73.895079</td>\n",
              "      <td>18.573559</td>\n",
              "      <td>Pune</td>\n",
              "      <td>Huawei</td>\n",
              "      <td>C8813</td>\n",
              "      <td>M</td>\n",
              "      <td>37.0</td>\n",
              "      <td>M32-38</td>\n",
              "    </tr>\n",
              "    <tr>\n",
              "      <th>677167</th>\n",
              "      <td>3252948</td>\n",
              "      <td>7111660304904287709</td>\n",
              "      <td>2016-05-07 23:35:33</td>\n",
              "      <td>72.837890</td>\n",
              "      <td>19.031563</td>\n",
              "      <td>Mumbai</td>\n",
              "      <td>OPPO</td>\n",
              "      <td>R831T</td>\n",
              "      <td>M</td>\n",
              "      <td>36.0</td>\n",
              "      <td>M32-38</td>\n",
              "    </tr>\n",
              "  </tbody>\n",
              "</table>\n",
              "</div>"
            ],
            "text/plain": [
              "        event_id             device_id           timestamp  ...  gender   age   group\n",
              "677158   3252891   1834389478016206260 2016-05-07 22:56:53  ...       F  22.0    F23-\n",
              "677159   3252897  -4153913356815067763 2016-05-07 23:09:23  ...       M  46.0    M39+\n",
              "677160   3252902   7565959697267570843 2016-05-07 23:06:27  ...       M  24.0  M23-26\n",
              "677161   3252909   1592938327888672569 2016-05-07 23:35:27  ...       F  24.0  F24-26\n",
              "677162   3252918   4495750910128395273 2016-05-07 22:56:02  ...       F  26.0  F24-26\n",
              "677163   3252928  -7811917364935931539 2016-05-07 23:45:33  ...       M  23.0  M23-26\n",
              "677164   3252934  -8456572573025681677 2016-05-07 23:06:49  ...       F  27.0  F27-28\n",
              "677165   3252935   3650938144459632894 2016-05-07 23:24:01  ...       M  69.0    M39+\n",
              "677166   3252945  -7468344787041842956 2016-05-07 23:56:08  ...       M  37.0  M32-38\n",
              "677167   3252948   7111660304904287709 2016-05-07 23:35:33  ...       M  36.0  M32-38\n",
              "\n",
              "[10 rows x 11 columns]"
            ]
          },
          "metadata": {
            "tags": []
          },
          "execution_count": 66
        }
      ]
    },
    {
      "cell_type": "code",
      "metadata": {
        "id": "8tfl3fr5m74l"
      },
      "source": [
        "\"\"\"\n",
        "from pandas_profiling import ProfileReport\n",
        "profile = ProfileReport(df_Telecom, title='Telecom Profiling Report', html={'style':{'full_width':True}})\n",
        "profile.to_file(output_file=\"Insaid_Telecom_Profiling.pdf\")\n",
        "\"\"\""
      ],
      "execution_count": null,
      "outputs": []
    },
    {
      "cell_type": "code",
      "metadata": {
        "id": "omeYO5Pum74m",
        "colab": {
          "base_uri": "https://localhost:8080/",
          "height": 343
        },
        "outputId": "bb6bd9b3-b239-444d-983c-2c606bbcecd2"
      },
      "source": [
        "df_Telecom.sample(10)"
      ],
      "execution_count": 67,
      "outputs": [
        {
          "output_type": "execute_result",
          "data": {
            "text/html": [
              "<div>\n",
              "<style scoped>\n",
              "    .dataframe tbody tr th:only-of-type {\n",
              "        vertical-align: middle;\n",
              "    }\n",
              "\n",
              "    .dataframe tbody tr th {\n",
              "        vertical-align: top;\n",
              "    }\n",
              "\n",
              "    .dataframe thead th {\n",
              "        text-align: right;\n",
              "    }\n",
              "</style>\n",
              "<table border=\"1\" class=\"dataframe\">\n",
              "  <thead>\n",
              "    <tr style=\"text-align: right;\">\n",
              "      <th></th>\n",
              "      <th>event_id</th>\n",
              "      <th>device_id</th>\n",
              "      <th>timestamp</th>\n",
              "      <th>longitude</th>\n",
              "      <th>latitude</th>\n",
              "      <th>city</th>\n",
              "      <th>phone_brand</th>\n",
              "      <th>device_model</th>\n",
              "      <th>gender</th>\n",
              "      <th>age</th>\n",
              "      <th>group</th>\n",
              "    </tr>\n",
              "  </thead>\n",
              "  <tbody>\n",
              "    <tr>\n",
              "      <th>401680</th>\n",
              "      <td>1925800</td>\n",
              "      <td>2078454538985683888</td>\n",
              "      <td>2016-05-03 08:43:50</td>\n",
              "      <td>75.816920</td>\n",
              "      <td>19.032856</td>\n",
              "      <td>Bid</td>\n",
              "      <td>Millet</td>\n",
              "      <td>Red rice Note</td>\n",
              "      <td>M</td>\n",
              "      <td>22.0</td>\n",
              "      <td>M22-</td>\n",
              "    </tr>\n",
              "    <tr>\n",
              "      <th>522278</th>\n",
              "      <td>2506209</td>\n",
              "      <td>-3145871569166435772</td>\n",
              "      <td>2016-05-01 06:39:22</td>\n",
              "      <td>73.860683</td>\n",
              "      <td>18.623265</td>\n",
              "      <td>Pune</td>\n",
              "      <td>Samsung</td>\n",
              "      <td>Galaxy S6</td>\n",
              "      <td>M</td>\n",
              "      <td>27.0</td>\n",
              "      <td>M27-28</td>\n",
              "    </tr>\n",
              "    <tr>\n",
              "      <th>487105</th>\n",
              "      <td>2336928</td>\n",
              "      <td>-2762255737169245464</td>\n",
              "      <td>2016-05-06 14:03:20</td>\n",
              "      <td>72.876068</td>\n",
              "      <td>18.993084</td>\n",
              "      <td>Mumbai</td>\n",
              "      <td>OPPO</td>\n",
              "      <td>A31</td>\n",
              "      <td>M</td>\n",
              "      <td>33.0</td>\n",
              "      <td>M32-38</td>\n",
              "    </tr>\n",
              "    <tr>\n",
              "      <th>187283</th>\n",
              "      <td>893956</td>\n",
              "      <td>-330182363271707178</td>\n",
              "      <td>2016-05-01 07:18:36</td>\n",
              "      <td>73.911026</td>\n",
              "      <td>18.614355</td>\n",
              "      <td>Pune</td>\n",
              "      <td>Millet</td>\n",
              "      <td>MI 3</td>\n",
              "      <td>M</td>\n",
              "      <td>21.0</td>\n",
              "      <td>M22-</td>\n",
              "    </tr>\n",
              "    <tr>\n",
              "      <th>556401</th>\n",
              "      <td>2671123</td>\n",
              "      <td>8594862512851080966</td>\n",
              "      <td>2016-05-06 18:53:29</td>\n",
              "      <td>74.837152</td>\n",
              "      <td>19.191073</td>\n",
              "      <td>Ahmadnagar</td>\n",
              "      <td>Millet</td>\n",
              "      <td>Red rice Note</td>\n",
              "      <td>M</td>\n",
              "      <td>27.0</td>\n",
              "      <td>M27-28</td>\n",
              "    </tr>\n",
              "    <tr>\n",
              "      <th>295165</th>\n",
              "      <td>1413024</td>\n",
              "      <td>4529298113351424933</td>\n",
              "      <td>2016-05-06 05:09:43</td>\n",
              "      <td>72.905881</td>\n",
              "      <td>19.008315</td>\n",
              "      <td>Mumbai</td>\n",
              "      <td>Huawei</td>\n",
              "      <td>Glory 6 Plus</td>\n",
              "      <td>M</td>\n",
              "      <td>25.0</td>\n",
              "      <td>M23-26</td>\n",
              "    </tr>\n",
              "    <tr>\n",
              "      <th>671886</th>\n",
              "      <td>3226600</td>\n",
              "      <td>7716187835123442279</td>\n",
              "      <td>2016-05-02 08:45:20</td>\n",
              "      <td>72.914141</td>\n",
              "      <td>19.020402</td>\n",
              "      <td>Mumbai</td>\n",
              "      <td>OPPO</td>\n",
              "      <td>R6007</td>\n",
              "      <td>M</td>\n",
              "      <td>29.0</td>\n",
              "      <td>M29-31</td>\n",
              "    </tr>\n",
              "    <tr>\n",
              "      <th>10723</th>\n",
              "      <td>48696</td>\n",
              "      <td>-2631872797399231341</td>\n",
              "      <td>2016-05-04 15:23:23</td>\n",
              "      <td>73.850413</td>\n",
              "      <td>18.587229</td>\n",
              "      <td>Pune</td>\n",
              "      <td>Millet</td>\n",
              "      <td>Red rice 2a</td>\n",
              "      <td>F</td>\n",
              "      <td>26.0</td>\n",
              "      <td>F24-26</td>\n",
              "    </tr>\n",
              "    <tr>\n",
              "      <th>575641</th>\n",
              "      <td>2764677</td>\n",
              "      <td>4960816594167100623</td>\n",
              "      <td>2016-05-04 22:43:53</td>\n",
              "      <td>73.888572</td>\n",
              "      <td>18.557196</td>\n",
              "      <td>Pune</td>\n",
              "      <td>Millet</td>\n",
              "      <td>MI 3</td>\n",
              "      <td>F</td>\n",
              "      <td>22.0</td>\n",
              "      <td>F23-</td>\n",
              "    </tr>\n",
              "    <tr>\n",
              "      <th>449984</th>\n",
              "      <td>2158518</td>\n",
              "      <td>-89275683011866947</td>\n",
              "      <td>2016-05-02 16:15:49</td>\n",
              "      <td>73.867986</td>\n",
              "      <td>18.562020</td>\n",
              "      <td>Pune</td>\n",
              "      <td>Millet</td>\n",
              "      <td>Red rice Note2</td>\n",
              "      <td>M</td>\n",
              "      <td>36.0</td>\n",
              "      <td>M32-38</td>\n",
              "    </tr>\n",
              "  </tbody>\n",
              "</table>\n",
              "</div>"
            ],
            "text/plain": [
              "        event_id             device_id           timestamp  ...  gender   age   group\n",
              "401680   1925800   2078454538985683888 2016-05-03 08:43:50  ...       M  22.0    M22-\n",
              "522278   2506209  -3145871569166435772 2016-05-01 06:39:22  ...       M  27.0  M27-28\n",
              "487105   2336928  -2762255737169245464 2016-05-06 14:03:20  ...       M  33.0  M32-38\n",
              "187283    893956   -330182363271707178 2016-05-01 07:18:36  ...       M  21.0    M22-\n",
              "556401   2671123   8594862512851080966 2016-05-06 18:53:29  ...       M  27.0  M27-28\n",
              "295165   1413024   4529298113351424933 2016-05-06 05:09:43  ...       M  25.0  M23-26\n",
              "671886   3226600   7716187835123442279 2016-05-02 08:45:20  ...       M  29.0  M29-31\n",
              "10723      48696  -2631872797399231341 2016-05-04 15:23:23  ...       F  26.0  F24-26\n",
              "575641   2764677   4960816594167100623 2016-05-04 22:43:53  ...       F  22.0    F23-\n",
              "449984   2158518    -89275683011866947 2016-05-02 16:15:49  ...       M  36.0  M32-38\n",
              "\n",
              "[10 rows x 11 columns]"
            ]
          },
          "metadata": {
            "tags": []
          },
          "execution_count": 67
        }
      ]
    },
    {
      "cell_type": "code",
      "metadata": {
        "id": "NHwItgcEm74m"
      },
      "source": [
        "#Get unique records from the dataset\n",
        "df_State=pd.DataFrame(df_Telecom[['device_id','longitude','latitude','city','phone_brand','device_model','gender','age','group']].drop_duplicates())\n"
      ],
      "execution_count": 68,
      "outputs": []
    },
    {
      "cell_type": "code",
      "metadata": {
        "id": "qbHciWvVm74m"
      },
      "source": [
        "#!pip install folium\n",
        "\n",
        "import folium as folium"
      ],
      "execution_count": 69,
      "outputs": []
    },
    {
      "cell_type": "code",
      "metadata": {
        "id": "5nfBu0XHm74n",
        "colab": {
          "base_uri": "https://localhost:8080/",
          "height": 343
        },
        "outputId": "128357ee-1734-4c7e-a50b-0e09814493a9"
      },
      "source": [
        "#sort data based on longitude\n",
        "df_State.sort_values(by=['longitude'], inplace=True)\n",
        "df_State.head(10)"
      ],
      "execution_count": 70,
      "outputs": [
        {
          "output_type": "execute_result",
          "data": {
            "text/html": [
              "<div>\n",
              "<style scoped>\n",
              "    .dataframe tbody tr th:only-of-type {\n",
              "        vertical-align: middle;\n",
              "    }\n",
              "\n",
              "    .dataframe tbody tr th {\n",
              "        vertical-align: top;\n",
              "    }\n",
              "\n",
              "    .dataframe thead th {\n",
              "        text-align: right;\n",
              "    }\n",
              "</style>\n",
              "<table border=\"1\" class=\"dataframe\">\n",
              "  <thead>\n",
              "    <tr style=\"text-align: right;\">\n",
              "      <th></th>\n",
              "      <th>device_id</th>\n",
              "      <th>longitude</th>\n",
              "      <th>latitude</th>\n",
              "      <th>city</th>\n",
              "      <th>phone_brand</th>\n",
              "      <th>device_model</th>\n",
              "      <th>gender</th>\n",
              "      <th>age</th>\n",
              "      <th>group</th>\n",
              "    </tr>\n",
              "  </thead>\n",
              "  <tbody>\n",
              "    <tr>\n",
              "      <th>66521</th>\n",
              "      <td>-3300282771940051439</td>\n",
              "      <td>12.567000</td>\n",
              "      <td>41.871900</td>\n",
              "      <td>Pune</td>\n",
              "      <td>Millet</td>\n",
              "      <td>Red rice Note</td>\n",
              "      <td>F</td>\n",
              "      <td>35.0</td>\n",
              "      <td>F33-42</td>\n",
              "    </tr>\n",
              "    <tr>\n",
              "      <th>63951</th>\n",
              "      <td>436980604655174361</td>\n",
              "      <td>55.270800</td>\n",
              "      <td>25.204800</td>\n",
              "      <td>Pune</td>\n",
              "      <td>Huawei</td>\n",
              "      <td>X1 7.0</td>\n",
              "      <td>M</td>\n",
              "      <td>28.0</td>\n",
              "      <td>M27-28</td>\n",
              "    </tr>\n",
              "    <tr>\n",
              "      <th>76489</th>\n",
              "      <td>4995976326034236311</td>\n",
              "      <td>69.207500</td>\n",
              "      <td>34.555300</td>\n",
              "      <td>Pune</td>\n",
              "      <td>Charming</td>\n",
              "      <td>MX2</td>\n",
              "      <td>M</td>\n",
              "      <td>32.0</td>\n",
              "      <td>M32-38</td>\n",
              "    </tr>\n",
              "    <tr>\n",
              "      <th>15007</th>\n",
              "      <td>-1741385130910718960</td>\n",
              "      <td>72.741634</td>\n",
              "      <td>20.042520</td>\n",
              "      <td>Dahanu</td>\n",
              "      <td>Samsung</td>\n",
              "      <td>Galaxy Note 2</td>\n",
              "      <td>M</td>\n",
              "      <td>29.0</td>\n",
              "      <td>M29-31</td>\n",
              "    </tr>\n",
              "    <tr>\n",
              "      <th>648513</th>\n",
              "      <td>604601419601042567</td>\n",
              "      <td>72.741797</td>\n",
              "      <td>20.000395</td>\n",
              "      <td>Dahanu</td>\n",
              "      <td>Samsung</td>\n",
              "      <td>Galaxy Note 4</td>\n",
              "      <td>F</td>\n",
              "      <td>32.0</td>\n",
              "      <td>F29-32</td>\n",
              "    </tr>\n",
              "    <tr>\n",
              "      <th>89275</th>\n",
              "      <td>26211278623319670</td>\n",
              "      <td>72.742448</td>\n",
              "      <td>20.038886</td>\n",
              "      <td>Dahanu</td>\n",
              "      <td>Millet</td>\n",
              "      <td>MI One Plus</td>\n",
              "      <td>M</td>\n",
              "      <td>22.0</td>\n",
              "      <td>M22-</td>\n",
              "    </tr>\n",
              "    <tr>\n",
              "      <th>63927</th>\n",
              "      <td>5579566039534587731</td>\n",
              "      <td>72.742800</td>\n",
              "      <td>20.052215</td>\n",
              "      <td>Dahanu</td>\n",
              "      <td>Charming</td>\n",
              "      <td>Charm blue metal</td>\n",
              "      <td>F</td>\n",
              "      <td>38.0</td>\n",
              "      <td>F33-42</td>\n",
              "    </tr>\n",
              "    <tr>\n",
              "      <th>27428</th>\n",
              "      <td>7578986340638826143</td>\n",
              "      <td>72.745702</td>\n",
              "      <td>19.990415</td>\n",
              "      <td>Dahanu</td>\n",
              "      <td>Huawei</td>\n",
              "      <td>P8 Lite</td>\n",
              "      <td>M</td>\n",
              "      <td>24.0</td>\n",
              "      <td>M23-26</td>\n",
              "    </tr>\n",
              "    <tr>\n",
              "      <th>3473</th>\n",
              "      <td>727364287871714235</td>\n",
              "      <td>72.750691</td>\n",
              "      <td>20.061953</td>\n",
              "      <td>Dahanu</td>\n",
              "      <td>Samsung</td>\n",
              "      <td>Galaxy Note 2</td>\n",
              "      <td>F</td>\n",
              "      <td>29.0</td>\n",
              "      <td>F29-32</td>\n",
              "    </tr>\n",
              "    <tr>\n",
              "      <th>60466</th>\n",
              "      <td>-4572416228963973233</td>\n",
              "      <td>72.751211</td>\n",
              "      <td>20.066039</td>\n",
              "      <td>Dahanu</td>\n",
              "      <td>Cool</td>\n",
              "      <td>8702</td>\n",
              "      <td>F</td>\n",
              "      <td>19.0</td>\n",
              "      <td>F23-</td>\n",
              "    </tr>\n",
              "  </tbody>\n",
              "</table>\n",
              "</div>"
            ],
            "text/plain": [
              "                   device_id  longitude   latitude  ... gender   age   group\n",
              "66521   -3300282771940051439  12.567000  41.871900  ...      F  35.0  F33-42\n",
              "63951     436980604655174361  55.270800  25.204800  ...      M  28.0  M27-28\n",
              "76489    4995976326034236311  69.207500  34.555300  ...      M  32.0  M32-38\n",
              "15007   -1741385130910718960  72.741634  20.042520  ...      M  29.0  M29-31\n",
              "648513    604601419601042567  72.741797  20.000395  ...      F  32.0  F29-32\n",
              "89275      26211278623319670  72.742448  20.038886  ...      M  22.0    M22-\n",
              "63927    5579566039534587731  72.742800  20.052215  ...      F  38.0  F33-42\n",
              "27428    7578986340638826143  72.745702  19.990415  ...      M  24.0  M23-26\n",
              "3473      727364287871714235  72.750691  20.061953  ...      F  29.0  F29-32\n",
              "60466   -4572416228963973233  72.751211  20.066039  ...      F  19.0    F23-\n",
              "\n",
              "[10 rows x 9 columns]"
            ]
          },
          "metadata": {
            "tags": []
          },
          "execution_count": 70
        }
      ]
    },
    {
      "cell_type": "code",
      "metadata": {
        "id": "uLnvc9Pem74n",
        "colab": {
          "base_uri": "https://localhost:8080/",
          "height": 136
        },
        "outputId": "368362f6-e862-48a5-ad8d-6d8c3c8f4cfa"
      },
      "source": [
        "df_Res=pd.DataFrame(df_State.groupby(['device_id'])['device_id'].agg({'count'}))\n",
        "df_Res=df_Res[df_Res['count']>1]\n",
        "df_Res.reset_index(inplace=True)\n",
        "df_Res"
      ],
      "execution_count": 71,
      "outputs": [
        {
          "output_type": "execute_result",
          "data": {
            "text/html": [
              "<div>\n",
              "<style scoped>\n",
              "    .dataframe tbody tr th:only-of-type {\n",
              "        vertical-align: middle;\n",
              "    }\n",
              "\n",
              "    .dataframe tbody tr th {\n",
              "        vertical-align: top;\n",
              "    }\n",
              "\n",
              "    .dataframe thead th {\n",
              "        text-align: right;\n",
              "    }\n",
              "</style>\n",
              "<table border=\"1\" class=\"dataframe\">\n",
              "  <thead>\n",
              "    <tr style=\"text-align: right;\">\n",
              "      <th></th>\n",
              "      <th>device_id</th>\n",
              "      <th>count</th>\n",
              "    </tr>\n",
              "  </thead>\n",
              "  <tbody>\n",
              "    <tr>\n",
              "      <th>0</th>\n",
              "      <td>-3300282771940051439</td>\n",
              "      <td>2</td>\n",
              "    </tr>\n",
              "    <tr>\n",
              "      <th>1</th>\n",
              "      <td>436980604655174361</td>\n",
              "      <td>2</td>\n",
              "    </tr>\n",
              "    <tr>\n",
              "      <th>2</th>\n",
              "      <td>4995976326034236311</td>\n",
              "      <td>2</td>\n",
              "    </tr>\n",
              "  </tbody>\n",
              "</table>\n",
              "</div>"
            ],
            "text/plain": [
              "              device_id  count\n",
              "0  -3300282771940051439      2\n",
              "1    436980604655174361      2\n",
              "2   4995976326034236311      2"
            ]
          },
          "metadata": {
            "tags": []
          },
          "execution_count": 71
        }
      ]
    },
    {
      "cell_type": "code",
      "metadata": {
        "id": "lfTwjpkbm74n",
        "colab": {
          "base_uri": "https://localhost:8080/"
        },
        "outputId": "c51432c2-1ce2-4b98-e2ef-339be1144153"
      },
      "source": [
        "#Find incorrect longitude and latitude\n",
        "device_ids = df_Res['device_id']\n",
        "for deviceId in device_ids:\n",
        "    print(df_State[df_State['device_id']==deviceId][['device_id','longitude','latitude','city']].to_string(header=False))\n",
        " "
      ],
      "execution_count": 72,
      "outputs": [
        {
          "output_type": "stream",
          "text": [
            "66521  -3300282771940051439  12.567000  41.871900  Pune\n",
            "1313   -3300282771940051439  73.900428  18.621034  Pune\n",
            "63951  436980604655174361  55.270800  25.204800  Pune\n",
            "23     436980604655174361  73.851085  18.577193  Pune\n",
            "76489  4995976326034236311  69.207500  34.555300  Pune\n",
            "506    4995976326034236311  73.889048  18.580559  Pune\n"
          ],
          "name": "stdout"
        }
      ]
    },
    {
      "cell_type": "code",
      "metadata": {
        "id": "6Ut-NhXcm74o",
        "colab": {
          "base_uri": "https://localhost:8080/"
        },
        "outputId": "7e3c316f-0df9-40c1-d872-e6b60f80e6d1"
      },
      "source": [
        "#Since we got Pune where we have descripancy therefore filtering dataset for city='Pune'\n",
        "df_State=df_State[df_State['city']=='Pune']\n",
        "MinLon=df_State['longitude'].mean()\n",
        "MinLat=df_State['latitude'].mean()\n",
        "df_State.info()"
      ],
      "execution_count": 73,
      "outputs": [
        {
          "output_type": "stream",
          "text": [
            "<class 'pandas.core.frame.DataFrame'>\n",
            "Int64Index: 1551 entries, 66521 to 1330\n",
            "Data columns (total 9 columns):\n",
            " #   Column        Non-Null Count  Dtype  \n",
            "---  ------        --------------  -----  \n",
            " 0   device_id     1551 non-null   object \n",
            " 1   longitude     1551 non-null   float64\n",
            " 2   latitude      1551 non-null   float64\n",
            " 3   city          1551 non-null   object \n",
            " 4   phone_brand   1551 non-null   object \n",
            " 5   device_model  1551 non-null   object \n",
            " 6   gender        1551 non-null   object \n",
            " 7   age           1551 non-null   float64\n",
            " 8   group         1551 non-null   object \n",
            "dtypes: float64(3), object(6)\n",
            "memory usage: 121.2+ KB\n"
          ],
          "name": "stdout"
        }
      ]
    },
    {
      "cell_type": "code",
      "metadata": {
        "id": "BL55AkMBm74o"
      },
      "source": [
        "#plot the points\n",
        "def color(gender):\n",
        "    if gender == 'M':\n",
        "        col = 'blue'\n",
        "    else:\n",
        "        col='pink'\n",
        "    return col\n",
        "output_file = \"State_BeforeChanges.html\"\n",
        "map = folium.Map(location=[MinLat,MinLon], zoom_start=4)\n",
        "test = folium.Html('<b>Hello world</b>', script=True)\n",
        "popup = folium.Popup(test, max_width=2650)\n",
        "for i in range(0,len(df_State)):\n",
        "   folium.Marker(\n",
        "      location=[df_State.iloc[i]['latitude'], df_State.iloc[i]['longitude']],\n",
        "      popup = df_State.iloc[i]['phone_brand'],\n",
        "                  icon= folium.Icon(color=color(df_State.iloc[i]['gender']),\n",
        "                  icon_color='yellow',icon = 'cloud')).add_to(map)\n",
        "map.save(output_file)\n"
      ],
      "execution_count": 74,
      "outputs": []
    },
    {
      "cell_type": "code",
      "metadata": {
        "id": "rTh1KYTlm74p"
      },
      "source": [
        "#Fix the outlier latitude and longitude\n",
        "for deviceId in device_ids:\n",
        "    lat_mode = float(df_Telecom[df_Telecom['device_id'] == deviceId]['latitude'].mode())\n",
        "    long_mode = float(df_Telecom[df_Telecom['device_id'] == deviceId]['longitude'].mode())\n",
        "    df_Telecom.loc[df_Telecom['device_id'] == deviceId, 'latitude'] = lat_mode\n",
        "    df_Telecom.loc[df_Telecom['device_id'] == deviceId, 'longitude'] = long_mode"
      ],
      "execution_count": 75,
      "outputs": []
    },
    {
      "cell_type": "code",
      "metadata": {
        "id": "smKduj3Dm74p"
      },
      "source": [
        "#Get unique records from the dataset and plot again new map plot\n",
        "df_State=pd.DataFrame(df_Telecom[df_Telecom['city']=='Pune'][['device_id','longitude','latitude','city','phone_brand','device_model','gender','age','group']].drop_duplicates())\n",
        "MinLon=df_State['longitude'].mean()\n",
        "MinLat=df_State['latitude'].mean()\n",
        "#plot the points\n",
        "def color(gender):\n",
        "    if gender == 'M':\n",
        "        col = 'blue'\n",
        "    else:\n",
        "        col='pink'\n",
        "    return col\n",
        "output_file = \"State_AfterChanges.html\"\n",
        "map = folium.Map(location=[MinLat,MinLon], zoom_start=4)\n",
        "test = folium.Html('<b>Hello world</b>', script=True)\n",
        "popup = folium.Popup(test, max_width=2650)\n",
        "for i in range(0,len(df_State)):\n",
        "   folium.Marker(\n",
        "      location=[df_State.iloc[i]['latitude'], df_State.iloc[i]['longitude']],\n",
        "      popup = df_State.iloc[i]['phone_brand'],\n",
        "                  icon= folium.Icon(color=color(df_State.iloc[i]['gender']),\n",
        "                  icon_color='yellow',icon = 'cloud')).add_to(map)\n",
        "map.save(output_file)\n"
      ],
      "execution_count": 76,
      "outputs": []
    },
    {
      "cell_type": "markdown",
      "metadata": {
        "id": "M1EFGOnSm74q"
      },
      "source": [
        "### Analysis"
      ]
    },
    {
      "cell_type": "code",
      "metadata": {
        "id": "7YwCW2CEm74q"
      },
      "source": [
        "import matplotlib.pyplot as plt\n",
        "%matplotlib inline\n",
        "import seaborn as sns\n",
        "sns.set(style='whitegrid', font_scale=1.3, color_codes=True)      # To apply seaborn styles to the plots.\n",
        "import random"
      ],
      "execution_count": 77,
      "outputs": []
    },
    {
      "cell_type": "code",
      "metadata": {
        "id": "FzY6Z0nzm74q",
        "colab": {
          "base_uri": "https://localhost:8080/"
        },
        "outputId": "eee91fa1-69ab-4b27-866c-7fd8ffb0839e"
      },
      "source": [
        "\n",
        "df_State=pd.DataFrame(df_Telecom[['device_id','longitude','latitude','city','phone_brand','device_model','gender','age','group']].drop_duplicates())\n",
        "Total = df_State.groupby('city')['gender'].count().sort_values(ascending=False)\n",
        "print('Total no. of users' ,Total.sum())\n",
        "Total"
      ],
      "execution_count": 78,
      "outputs": [
        {
          "output_type": "stream",
          "text": [
            "Total no. of users 9010\n"
          ],
          "name": "stdout"
        },
        {
          "output_type": "execute_result",
          "data": {
            "text/plain": [
              "city\n",
              "Mumbai        4596\n",
              "Pune          1548\n",
              "NaviMumbai      74\n",
              "Amalner         46\n",
              "Nalasopara      44\n",
              "              ... \n",
              "Hinganghat      24\n",
              "Jalna           24\n",
              "Malegaon        22\n",
              "Amravati        22\n",
              "Basmat          21\n",
              "Name: gender, Length: 87, dtype: int64"
            ]
          },
          "metadata": {
            "tags": []
          },
          "execution_count": 78
        }
      ]
    },
    {
      "cell_type": "markdown",
      "metadata": {
        "id": "CAQs0Szim74r"
      },
      "source": [
        "##Maximum 4596 users are present followed by Pune with 1548. Rest of the cities has less than 100 users each. Total no. of users are 9010. 32% users belongs to rest of maharashtra other than Mumbai and Pune city."
      ]
    },
    {
      "cell_type": "markdown",
      "metadata": {
        "id": "wrKUcQFtm74r"
      },
      "source": [
        "# Phone wise data"
      ]
    },
    {
      "cell_type": "code",
      "metadata": {
        "id": "iW3SrsXcm74r",
        "colab": {
          "base_uri": "https://localhost:8080/"
        },
        "outputId": "0d2fa7c8-34d5-4312-e5c9-04b5bf18d62b"
      },
      "source": [
        "df_State[['phone_brand','device_model']].nunique()"
      ],
      "execution_count": 79,
      "outputs": [
        {
          "output_type": "execute_result",
          "data": {
            "text/plain": [
              "phone_brand      76\n",
              "device_model    841\n",
              "dtype: int64"
            ]
          },
          "metadata": {
            "tags": []
          },
          "execution_count": 79
        }
      ]
    },
    {
      "cell_type": "markdown",
      "metadata": {
        "id": "cdGe6ewMm74s"
      },
      "source": [
        "There are 76 phone brands with different 841 device models used in state of Maharashtra."
      ]
    },
    {
      "cell_type": "code",
      "metadata": {
        "id": "QYKg8phpm74s",
        "colab": {
          "base_uri": "https://localhost:8080/",
          "height": 813
        },
        "outputId": "22d56585-af9a-475d-9962-a3e7ab5497dd"
      },
      "source": [
        "df_Phone=pd.DataFrame(df_State.groupby('phone_brand').agg(Cnt=('phone_brand','count')))\n",
        "df_Phone['phone_brand']=df_Phone.index\n",
        "df_Phone.reset_index(drop=True, inplace=True)\n",
        "df_Phone.sort_values('Cnt',ascending=False, inplace=True)\n",
        "#print(df_Phone.head(5))\n",
        "#colours\n",
        "\n",
        "n = df_Phone['phone_brand'].unique().__len__()+1\n",
        "all_colors = list(plt.cm.colors.cnames.keys())\n",
        "random.seed(100)\n",
        "c = random.choices(all_colors, k=n)\n",
        "# Plot Bars\n",
        "plt.figure(figsize=(16,10), dpi= 80)\n",
        "plt.bar(df_Phone['phone_brand'], df_Phone['Cnt'], color=c, width=.5)\n",
        "for i, val in enumerate(df_Phone['Cnt'].values):\n",
        "    plt.text(i, val, int(val), horizontalalignment='center', rotation ='vertical',verticalalignment='bottom', fontdict={'fontweight':600, 'size':9})\n",
        "# Decoration\n",
        "plt.gca().set_xticklabels(df_Phone['phone_brand'], rotation=60, horizontalalignment= 'right')\n",
        "plt.title(\"Phone Brands in state of Maharashtra \", fontsize=20)\n",
        "plt.ylabel('count')\n",
        "plt.xlabel('phone_brand')\n",
        "plt.ticklabel_format(useOffset=False, style='plain', axis='y')\n",
        "\n",
        "plt.show()\n"
      ],
      "execution_count": 80,
      "outputs": [
        {
          "output_type": "display_data",
          "data": {
            "image/png": "[encoded data removed]",
            "text/plain": [
              "<Figure size 1280x800 with 1 Axes>"
            ]
          },
          "metadata": {
            "tags": []
          }
        }
      ]
    },
    {
      "cell_type": "code",
      "metadata": {
        "id": "EXAWxEh8m74t"
      },
      "source": [
        ""
      ],
      "execution_count": null,
      "outputs": []
    }
  ]
}